{
  "cells": [
    {
      "cell_type": "markdown",
      "metadata": {
        "id": "8X4cnfVv3tqF"
      },
      "source": [
        "프로젝트2: MNIST NN모델의 prediction 실험\n",
        "컴퓨터정보통신공학부 2019253018 이준형"
      ]
    },
    {
      "cell_type": "markdown",
      "metadata": {
        "id": "g_dJT7PG4qCv"
      },
      "source": [
        "TensorFlow에서 이미지 데이터셋 불러오기 & MINIST 데이터셋 불러오기\n"
      ]
    },
    {
      "cell_type": "code",
      "execution_count": 31,
      "metadata": {
        "id": "ULBdBol_40-i"
      },
      "outputs": [],
      "source": [
        "import tensorflow as tf\n",
        "from tensorflow.keras.datasets import mnist\n",
        "from tensorflow.keras import layers\n",
        "from tensorflow.keras import models, layers\n",
        "import matplotlib.pyplot as plt\n",
        "\n",
        "(train_images, train_labels), (test_images, test_labels) = mnist.load_data()"
      ]
    },
    {
      "cell_type": "markdown",
      "metadata": {
        "id": "aQqbVWRq59By"
      },
      "source": [
        "데이터셋 조정, 배열형태로 변경, 픽셀값 조정"
      ]
    },
    {
      "cell_type": "code",
      "execution_count": 30,
      "metadata": {
        "id": "ATf4UsgN5-FV"
      },
      "outputs": [],
      "source": [
        "train_images = train_images.reshape(60000, 28, 28, 1) / 255.0\n",
        "test_images = test_images.reshape(10000, 28, 28, 1) / 255.0"
      ]
    },
    {
      "cell_type": "markdown",
      "metadata": {
        "id": "AxIaErt069xq"
      },
      "source": [
        "저번과제 모델 사용, 최적화"
      ]
    },
    {
      "cell_type": "code",
      "execution_count": 14,
      "metadata": {
        "id": "2s8_ZPjQ6_4n"
      },
      "outputs": [],
      "source": [
        "model_Task1 = models.Sequential()\n",
        "model_Task1.add(layers.Flatten(input_shape=(28, 28, 1)))\n",
        "model_Task1.add(layers.Dense(256, activation='relu'))\n",
        "model_Task1.add(layers.Dense(128, activation='relu'))\n",
        "model_Task1.add(layers.Dense(10, activation='softmax'))\n",
        "\n",
        "optimizer = tf.keras.optimizers.Adam()\n",
        "loss_function = tf.keras.losses.SparseCategoricalCrossentropy()\n",
        "metrics = ['accuracy']\n",
        "\n",
        "model_Task1.compile(optimizer=optimizer,\n",
        "               loss=loss_function,\n",
        "               metrics=metrics)"
      ]
    },
    {
      "cell_type": "markdown",
      "metadata": {
        "id": "sxAFIdZ-DS85"
      },
      "source": [
        "모델 Train"
      ]
    },
    {
      "cell_type": "code",
      "execution_count": 28,
      "metadata": {
        "id": "8THQhMK7Ci5k"
      },
      "outputs": [],
      "source": [
        "epochs = 37  # epoch 는 과제1에서 알아 낸 값을 그대로 이용한다.\n",
        "batch_size = 32"
      ]
    },
    {
      "cell_type": "code",
      "execution_count": 32,
      "metadata": {
        "colab": {
          "base_uri": "https://localhost:8080/"
        },
        "id": "ODPLuVcVDDx9",
        "outputId": "eab38ce7-4e82-4ffd-fb90-b776335c0d22"
      },
      "outputs": [
        {
          "name": "stdout",
          "output_type": "stream",
          "text": [
            "Epoch 1/4\n",
            "1500/1500 [==============================] - 5s 3ms/step - loss: 7.6610 - accuracy: 0.9877 - val_loss: 4.2348 - val_accuracy: 0.9904\n",
            "Epoch 2/4\n",
            "1500/1500 [==============================] - 5s 4ms/step - loss: 2.0873 - accuracy: 0.9943 - val_loss: 3.0132 - val_accuracy: 0.9927\n",
            "Epoch 3/4\n",
            "1500/1500 [==============================] - 4s 3ms/step - loss: 1.7257 - accuracy: 0.9948 - val_loss: 10.3482 - val_accuracy: 0.9820\n",
            "Epoch 4/4\n",
            "1500/1500 [==============================] - 6s 4ms/step - loss: 2.0921 - accuracy: 0.9935 - val_loss: 3.8067 - val_accuracy: 0.9911\n"
          ]
        }
      ],
      "source": [
        "train_results = model_Task1.fit(train_images, train_labels, epochs=epochs, batch_size=batch_size, validation_split=0.2)\n"
      ]
    },
    {
      "cell_type": "markdown",
      "metadata": {
        "id": "P3rQXUPwDieC"
      },
      "source": [
        "테스트 데이터셋 평가"
      ]
    },
    {
      "cell_type": "code",
      "execution_count": 36,
      "metadata": {
        "colab": {
          "base_uri": "https://localhost:8080/"
        },
        "id": "v1SQ8JD279PH",
        "outputId": "1389b831-c29d-43f7-d3b7-d941d31b39f1"
      },
      "outputs": [
        {
          "name": "stdout",
          "output_type": "stream",
          "text": [
            "313/313 [==============================] - 0s 1ms/step - loss: 17.7096 - accuracy: 0.9773\n"
          ]
        }
      ],
      "source": [
        "results = model_Task1.evaluate(test_images, test_labels)\n",
        "test_loss, test_accuarcy = results[0], results[1]"
      ]
    },
    {
      "cell_type": "code",
      "execution_count": 43,
      "metadata": {
        "colab": {
          "base_uri": "https://localhost:8080/"
        },
        "id": "nQ4DByhH8Dm5",
        "outputId": "6cfaa392-0824-4688-f985-77cc476fb6e2"
      },
      "outputs": [
        {
          "name": "stdout",
          "output_type": "stream",
          "text": [
            "Model_Task1 Test Accuracy: 0.9772999882698059\n",
            "50/50 [==============================] - 0s 1ms/step\n"
          ]
        }
      ],
      "source": [
        "print(\"Model_Task1 Test Accuracy:\", test_accuarcy)\n",
        "\n",
        "x_test = np.random.rand(1600, 784)  # 1600개의 무작위 이미지 데이터, 각 이미지는 784개의 픽셀로 구성됨\n",
        "x_test = x_test[:1600]\n",
        "y_test = np.random.randint(0, 10, 1600)  # 1600개의 무작위 레이블 데이터 (0부터 9까지의 정수)\n",
        "y_test = y_test[:1600]\n",
        "\n",
        "test_images=test_images[:1600]\n",
        "test_labels=test_labels[:1600]\n",
        "\n",
        "pred2 = model_Task1.predict(test_images)"
      ]
    },
    {
      "cell_type": "markdown",
      "metadata": {
        "id": "bWitopw-G26R"
      },
      "source": [
        "예측 실패 샘플들 리스트에 추가"
      ]
    },
    {
      "cell_type": "code",
      "execution_count": 45,
      "metadata": {
        "id": "xEzPne0j8KuU"
      },
      "outputs": [],
      "source": [
        "import numpy as np\n",
        "\n",
        "wrong = []\n",
        "for i in range(1600):\n",
        "    predicted_label = np.argmax(pred2[i])\n",
        "    if predicted_label != test_labels[i]:\n",
        "        wrong.append(i)\n",
        "\n",
        "wnum = len(wrong)"
      ]
    },
    {
      "cell_type": "code",
      "execution_count": 46,
      "metadata": {
        "id": "czZxsYKw8MTZ"
      },
      "outputs": [],
      "source": [
        "wrong = [i for i in range(1600) if np.argmax(pred2[i]) != test_labels[i]]\n",
        "tg = [pred2[i][test_labels[i]] for i in wrong]\n",
        "wr_tg = np.column_stack((wrong, tg))\n",
        "res = wr_tg[wr_tg[:,1].argsort()]\n"
      ]
    },
    {
      "cell_type": "markdown",
      "metadata": {
        "id": "n20B8VLvIDeH"
      },
      "source": [
        "pred shape & wnum 출력"
      ]
    },
    {
      "cell_type": "code",
      "execution_count": 48,
      "metadata": {
        "colab": {
          "base_uri": "https://localhost:8080/"
        },
        "id": "Dzifoa40HYzk",
        "outputId": "0a14b4e8-8709-4e18-bea0-7814b94ab15a"
      },
      "outputs": [
        {
          "name": "stdout",
          "output_type": "stream",
          "text": [
            "pred shape: (1600, 10)\n",
            "wnum: 42\n"
          ]
        }
      ],
      "source": [
        "    print(f\"pred shape: {pred2.shape}\")\n",
        "    print(f\"wnum: {len(wrong)}\")"
      ]
    },
    {
      "cell_type": "markdown",
      "metadata": {
        "id": "9IbsIrd_IJqI"
      },
      "source": [
        "이미지 출력"
      ]
    },
    {
      "cell_type": "code",
      "execution_count": 58,
      "metadata": {
        "colab": {
          "base_uri": "https://localhost:8080/",
          "height": 1000
        },
        "id": "ItPSMm-PITT5",
        "outputId": "b130b5b0-8f46-4231-e6fd-f35f55833b43"
      },
      "outputs": [
        {
          "name": "stdout",
          "output_type": "stream",
          "text": [
            "예제번호: 247\n",
            "정답레이블: 4\n",
            "예측레이블: 2\n",
            "정답레이블의 확률: 0.0\n"
          ]
        },
        {
          "data": {
            "image/png": "[encoded data removed]",
            "text/plain": [
              "<Figure size 640x480 with 1 Axes>"
            ]
          },
          "metadata": {},
          "output_type": "display_data"
        },
        {
          "name": "stdout",
          "output_type": "stream",
          "text": [
            "예제번호: 1156\n",
            "정답레이블: 7\n",
            "예측레이블: 8\n",
            "정답레이블의 확률: 0.0\n"
          ]
        },
        {
          "data": {
            "image/png": "[encoded data removed]",
            "text/plain": [
              "<Figure size 640x480 with 1 Axes>"
            ]
          },
          "metadata": {},
          "output_type": "display_data"
        },
        {
          "name": "stdout",
          "output_type": "stream",
          "text": [
            "예제번호: 1182\n",
            "정답레이블: 6\n",
            "예측레이블: 8\n",
            "정답레이블의 확률: 0.0\n"
          ]
        },
        {
          "data": {
            "image/png": "[encoded data removed]",
            "text/plain": [
              "<Figure size 640x480 with 1 Axes>"
            ]
          },
          "metadata": {},
          "output_type": "display_data"
        }
      ],
      "source": [
        "for i in range(3):\n",
        "    example_num = int(res[i][0])\n",
        "    true_label = test_labels[example_num]\n",
        "    predicted_label = np.argmax(pred2[example_num])\n",
        "    true_prob = res[i][1]\n",
        "\n",
        "    print(f\"예제번호: {example_num}\")\n",
        "    print(f\"정답레이블: {true_label}\")\n",
        "    print(f\"예측레이블: {predicted_label}\")\n",
        "    print(f\"정답레이블의 확률: {true_prob}\")\n",
        "\n",
        "    plt.imshow(test_images[example_num].reshape(28, 28), cmap='gray')\n",
        "    plt.show()"
      ]
    },
    {
      "cell_type": "markdown",
      "metadata": {
        "id": "kGmzRabq5hRv"
      },
      "source": []
    }
  ],
  "metadata": {
    "colab": {
      "provenance": []
    },
    "kernelspec": {
      "display_name": "Python 3",
      "name": "python3"
    },
    "language_info": {
      "name": "python"
    }
  },
  "nbformat": 4,
  "nbformat_minor": 0
}
