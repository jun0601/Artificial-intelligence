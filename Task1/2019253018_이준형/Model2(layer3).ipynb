{
  "nbformat": 4,
  "nbformat_minor": 0,
  "metadata": {
    "colab": {
      "provenance": []
    },
    "kernelspec": {
      "name": "python3",
      "display_name": "Python 3"
    },
    "language_info": {
      "name": "python"
    }
  },
  "cells": [
    {
      "cell_type": "markdown",
      "source": [
        "기본정의 & 하이퍼 파라미터 값 정의"
      ],
      "metadata": {
        "id": "zUkBlhr41UMu"
      }
    },
    {
      "cell_type": "code",
      "source": [
        "import torch\n",
        "import torch.nn as nn\n",
        "import torch.optim as optim\n",
        "from torchvision import datasets, transforms\n",
        "\n",
        "batch_size = 32\n",
        "test_batch_size = 1000\n",
        "\n",
        "epochs = 50\n",
        "lr = 0.01           # learning rate\n",
        "momentum = 0.5      # optimizer parameter\n",
        "seed = 1\n",
        "\n",
        "log_interval = 200"
      ],
      "metadata": {
        "id": "VMbZ2jWn1X00"
      },
      "execution_count": 3,
      "outputs": []
    },
    {
      "cell_type": "markdown",
      "source": [
        "GPU 사용 여부"
      ],
      "metadata": {
        "id": "UkvT6E4u1nU9"
      }
    },
    {
      "cell_type": "code",
      "source": [
        "no_cuda = False\n",
        "use_cuda = not no_cuda and torch.cuda.is_available()\n",
        "device = torch.device(\"cuda\" if use_cuda else \"cpu\")\n",
        "\n",
        "torch.manual_seed(seed)\n",
        "kwargs = {'num_workers': 1, 'pin_memory': True} if use_cuda else {}\n",
        "\n"
      ],
      "metadata": {
        "id": "LGNrauWS1s_o"
      },
      "execution_count": 5,
      "outputs": []
    },
    {
      "cell_type": "markdown",
      "source": [
        "data 로드 & 전처리 훈련 data 학습용(80%), 검증용(20%)로 나누기"
      ],
      "metadata": {
        "id": "4-tOpl4a1yik"
      }
    },
    {
      "cell_type": "code",
      "source": [
        "def load_data(train_file_path, test_file_path):\n",
        "    transform = transforms.Compose([transforms.ToTensor()])\n",
        "\n",
        "    train_dataset = datasets.MNIST(train_file_path, train=True, download=True, transform=transform)\n",
        "    test_dataset = datasets.MNIST(test_file_path, train=False, download=True, transform=transform)\n",
        "\n",
        "    train_size = int(0.8 * len(train_dataset))\n",
        "    val_size = len(train_dataset) - train_size\n",
        "    train_dataset, val_dataset = torch.utils.data.random_split(train_dataset, [train_size, val_size])\n",
        "\n",
        "    train_loader = torch.utils.data.DataLoader(train_dataset, batch_size=32, shuffle=True)\n",
        "    val_loader = torch.utils.data.DataLoader(val_dataset, batch_size=32, shuffle=False)\n",
        "    test_loader = torch.utils.data.DataLoader(test_dataset, batch_size=32, shuffle=False)\n",
        "\n",
        "    return train_loader, val_loader, test_loader"
      ],
      "metadata": {
        "id": "VC7IAK_F152v"
      },
      "execution_count": 14,
      "outputs": []
    },
    {
      "cell_type": "markdown",
      "source": [
        "신경망 모델 정의"
      ],
      "metadata": {
        "id": "BTdYOCn13YFX"
      }
    },
    {
      "cell_type": "code",
      "source": [
        "class NeuralNetwork(nn.Module):\n",
        "    def __init__(self, m1, m2, m3):\n",
        "        super(NeuralNetwork, self).__init__()\n",
        "        self.fc1 = nn.Linear(784, m1)\n",
        "        self.fc2 = nn.Linear(m1, m2)\n",
        "        self.fc3 = nn.Linear(m2, m3)\n",
        "\n",
        "    def forward(self, x):\n",
        "        x = x.float()\n",
        "        h1 = torch.relu(self.fc1(x.view(-1, 784)))\n",
        "        h2 = torch.relu(self.fc2(h1))\n",
        "        h3 = self.fc3(h2)\n",
        "        return torch.log_softmax(h3, dim=1)"
      ],
      "metadata": {
        "id": "3RPdYhnr3g90"
      },
      "execution_count": 15,
      "outputs": []
    },
    {
      "cell_type": "markdown",
      "source": [
        "train함수&validate함수&test함수"
      ],
      "metadata": {
        "id": "a2DoPDY2320q"
      }
    },
    {
      "cell_type": "code",
      "source": [
        "def train(model, device, train_loader, optimizer, epoch):\n",
        "    model.train()\n",
        "    for batch_idx, (data, target) in enumerate(train_loader):\n",
        "        data, target = data.to(device), target.to(device)\n",
        "        optimizer.zero_grad()\n",
        "        output = model(data)\n",
        "        loss = nn.functional.nll_loss(output, target)\n",
        "        loss.backward()\n",
        "        optimizer.step()\n",
        "\n",
        "        if batch_idx % log_interval == 0:\n",
        "            print(f'Train Epoch: {epoch} [{batch_idx * len(data)}/{len(train_loader.dataset)} '\n",
        "                  f'({100. * batch_idx / len(train_loader):.0f}%)]\\tLoss: {loss.item():.6f}')"
      ],
      "metadata": {
        "id": "o70ayNrk4CvU"
      },
      "execution_count": 16,
      "outputs": []
    },
    {
      "cell_type": "code",
      "source": [
        "def validate(model, device, val_loader):\n",
        "    model.eval()\n",
        "    val_loss = 0\n",
        "    correct = 0\n",
        "    with torch.no_grad():\n",
        "        for data, target in val_loader:\n",
        "            data, target = data.to(device), target.to(device)\n",
        "            output = model(data)\n",
        "            val_loss += nn.functional.nll_loss(output, target, reduction='sum').item()\n",
        "            pred = output.argmax(dim=1, keepdim=True)\n",
        "            correct += pred.eq(target.view_as(pred)).sum().item()\n",
        "\n",
        "    val_loss /= len(val_loader.dataset)\n",
        "    val_accuracy = 100. * correct / len(val_loader.dataset)\n",
        "    return val_loss, val_accuracy\n",
        "\n",
        "def test(model, device, test_loader):\n",
        "\n",
        "    model.eval()\n",
        "    test_loss = 0\n",
        "    correct = 0\n",
        "    with torch.no_grad():\n",
        "        for data, target in test_loader:\n",
        "            data, target = data.to(device), target.to(device)\n",
        "            output = model(data)\n",
        "            test_loss += nn.functional.nll_loss(output, target, reduction='sum').item()\n",
        "            pred = output.argmax(dim=1, keepdim=True)\n",
        "            correct += pred.eq(target.view_as(pred)).sum().item()\n",
        "\n",
        "    test_loss /= len(test_loader.dataset)\n",
        "    test_accuracy = 100. * correct / len(test_loader.dataset)\n",
        "    return test_loss, test_accuracy\n"
      ],
      "metadata": {
        "id": "q9Lhe2e44KRz"
      },
      "execution_count": 19,
      "outputs": []
    },
    {
      "cell_type": "markdown",
      "source": [
        "data 로드, 모델,optimizer설정"
      ],
      "metadata": {
        "id": "wRr7GYJ34U1m"
      }
    },
    {
      "cell_type": "code",
      "source": [
        "train_file_path = 'mnist_train.txt'\n",
        "test_file_path = 'mnist_test.txt'\n",
        "train_loader, val_loader, test_loader = load_data(train_file_path, test_file_path)\n",
        "\n",
        "model2 = NeuralNetwork(m1=256, m2=128, m3=10).to(device)\n",
        "optimizer2 = optim.SGD(model2.parameters(), lr=0.01, momentum=0.5)"
      ],
      "metadata": {
        "colab": {
          "base_uri": "https://localhost:8080/"
        },
        "id": "z2tKKtKh4toe",
        "outputId": "1e49fb0c-6d90-47d7-fe8f-961ea3a03b68"
      },
      "execution_count": 20,
      "outputs": [
        {
          "output_type": "stream",
          "name": "stdout",
          "text": [
            "Downloading http://yann.lecun.com/exdb/mnist/train-images-idx3-ubyte.gz\n",
            "Downloading http://yann.lecun.com/exdb/mnist/train-images-idx3-ubyte.gz to mnist_train.txt/MNIST/raw/train-images-idx3-ubyte.gz\n"
          ]
        },
        {
          "output_type": "stream",
          "name": "stderr",
          "text": [
            "100%|██████████| 9912422/9912422 [00:00<00:00, 127745242.84it/s]"
          ]
        },
        {
          "output_type": "stream",
          "name": "stdout",
          "text": [
            "Extracting mnist_train.txt/MNIST/raw/train-images-idx3-ubyte.gz to mnist_train.txt/MNIST/raw\n"
          ]
        },
        {
          "output_type": "stream",
          "name": "stderr",
          "text": [
            "\n"
          ]
        },
        {
          "output_type": "stream",
          "name": "stdout",
          "text": [
            "\n",
            "Downloading http://yann.lecun.com/exdb/mnist/train-labels-idx1-ubyte.gz\n",
            "Downloading http://yann.lecun.com/exdb/mnist/train-labels-idx1-ubyte.gz to mnist_train.txt/MNIST/raw/train-labels-idx1-ubyte.gz\n"
          ]
        },
        {
          "output_type": "stream",
          "name": "stderr",
          "text": [
            "100%|██████████| 28881/28881 [00:00<00:00, 8988994.79it/s]\n"
          ]
        },
        {
          "output_type": "stream",
          "name": "stdout",
          "text": [
            "Extracting mnist_train.txt/MNIST/raw/train-labels-idx1-ubyte.gz to mnist_train.txt/MNIST/raw\n",
            "\n",
            "Downloading http://yann.lecun.com/exdb/mnist/t10k-images-idx3-ubyte.gz\n",
            "Downloading http://yann.lecun.com/exdb/mnist/t10k-images-idx3-ubyte.gz to mnist_train.txt/MNIST/raw/t10k-images-idx3-ubyte.gz\n"
          ]
        },
        {
          "output_type": "stream",
          "name": "stderr",
          "text": [
            "100%|██████████| 1648877/1648877 [00:00<00:00, 30073277.14it/s]"
          ]
        },
        {
          "output_type": "stream",
          "name": "stdout",
          "text": [
            "Extracting mnist_train.txt/MNIST/raw/t10k-images-idx3-ubyte.gz to mnist_train.txt/MNIST/raw\n"
          ]
        },
        {
          "output_type": "stream",
          "name": "stderr",
          "text": [
            "\n"
          ]
        },
        {
          "output_type": "stream",
          "name": "stdout",
          "text": [
            "\n",
            "Downloading http://yann.lecun.com/exdb/mnist/t10k-labels-idx1-ubyte.gz\n",
            "Downloading http://yann.lecun.com/exdb/mnist/t10k-labels-idx1-ubyte.gz to mnist_train.txt/MNIST/raw/t10k-labels-idx1-ubyte.gz\n"
          ]
        },
        {
          "output_type": "stream",
          "name": "stderr",
          "text": [
            "100%|██████████| 4542/4542 [00:00<00:00, 2468004.76it/s]\n"
          ]
        },
        {
          "output_type": "stream",
          "name": "stdout",
          "text": [
            "Extracting mnist_train.txt/MNIST/raw/t10k-labels-idx1-ubyte.gz to mnist_train.txt/MNIST/raw\n",
            "\n",
            "Downloading http://yann.lecun.com/exdb/mnist/train-images-idx3-ubyte.gz\n",
            "Downloading http://yann.lecun.com/exdb/mnist/train-images-idx3-ubyte.gz to mnist_test.txt/MNIST/raw/train-images-idx3-ubyte.gz\n"
          ]
        },
        {
          "output_type": "stream",
          "name": "stderr",
          "text": [
            "100%|██████████| 9912422/9912422 [00:00<00:00, 234449940.19it/s]\n"
          ]
        },
        {
          "output_type": "stream",
          "name": "stdout",
          "text": [
            "Extracting mnist_test.txt/MNIST/raw/train-images-idx3-ubyte.gz to mnist_test.txt/MNIST/raw\n",
            "\n",
            "Downloading http://yann.lecun.com/exdb/mnist/train-labels-idx1-ubyte.gz\n",
            "Downloading http://yann.lecun.com/exdb/mnist/train-labels-idx1-ubyte.gz to mnist_test.txt/MNIST/raw/train-labels-idx1-ubyte.gz\n"
          ]
        },
        {
          "output_type": "stream",
          "name": "stderr",
          "text": [
            "100%|██████████| 28881/28881 [00:00<00:00, 12867611.41it/s]\n"
          ]
        },
        {
          "output_type": "stream",
          "name": "stdout",
          "text": [
            "Extracting mnist_test.txt/MNIST/raw/train-labels-idx1-ubyte.gz to mnist_test.txt/MNIST/raw\n",
            "\n",
            "Downloading http://yann.lecun.com/exdb/mnist/t10k-images-idx3-ubyte.gz\n",
            "Downloading http://yann.lecun.com/exdb/mnist/t10k-images-idx3-ubyte.gz to mnist_test.txt/MNIST/raw/t10k-images-idx3-ubyte.gz\n"
          ]
        },
        {
          "output_type": "stream",
          "name": "stderr",
          "text": [
            "100%|██████████| 1648877/1648877 [00:00<00:00, 128024646.36it/s]"
          ]
        },
        {
          "output_type": "stream",
          "name": "stdout",
          "text": [
            "Extracting mnist_test.txt/MNIST/raw/t10k-images-idx3-ubyte.gz to mnist_test.txt/MNIST/raw\n"
          ]
        },
        {
          "output_type": "stream",
          "name": "stderr",
          "text": [
            "\n"
          ]
        },
        {
          "output_type": "stream",
          "name": "stdout",
          "text": [
            "\n",
            "Downloading http://yann.lecun.com/exdb/mnist/t10k-labels-idx1-ubyte.gz\n",
            "Downloading http://yann.lecun.com/exdb/mnist/t10k-labels-idx1-ubyte.gz to mnist_test.txt/MNIST/raw/t10k-labels-idx1-ubyte.gz\n"
          ]
        },
        {
          "output_type": "stream",
          "name": "stderr",
          "text": [
            "100%|██████████| 4542/4542 [00:00<00:00, 2208756.96it/s]"
          ]
        },
        {
          "output_type": "stream",
          "name": "stdout",
          "text": [
            "Extracting mnist_test.txt/MNIST/raw/t10k-labels-idx1-ubyte.gz to mnist_test.txt/MNIST/raw\n",
            "\n"
          ]
        },
        {
          "output_type": "stream",
          "name": "stderr",
          "text": [
            "\n"
          ]
        }
      ]
    },
    {
      "cell_type": "markdown",
      "source": [
        "훈련&성능 도출&test"
      ],
      "metadata": {
        "id": "DA5tI4LO40YC"
      }
    },
    {
      "cell_type": "code",
      "source": [
        "for epoch in range(1, epochs + 1):\n",
        "    train(model2, device, train_loader, optimizer2, epoch)\n",
        "    val_loss2, val_accuracy2 = validate(model2, device, val_loader)\n",
        "    print(f'Validation set: Average loss: {val_loss2:.4f}, Accuracy: {val_accuracy2:.2f}%')\n",
        "test_loss2, test_accuracy2 = test(model2, device, test_loader)\n",
        "print(f'Model 2 Test set: Average loss: {test_loss2:.4f}, Accuracy: {test_accuracy2:.2f}%')\n"
      ],
      "metadata": {
        "colab": {
          "base_uri": "https://localhost:8080/"
        },
        "id": "UHcQ8vyW46iS",
        "outputId": "dbb7cccc-f338-4cfd-adfd-41d66576218e"
      },
      "execution_count": 21,
      "outputs": [
        {
          "output_type": "stream",
          "name": "stdout",
          "text": [
            "Train Epoch: 1 [0/48000 (0%)]\tLoss: 2.309359\n",
            "Train Epoch: 1 [6400/48000 (13%)]\tLoss: 2.002542\n",
            "Train Epoch: 1 [12800/48000 (27%)]\tLoss: 0.945665\n",
            "Train Epoch: 1 [19200/48000 (40%)]\tLoss: 0.649600\n",
            "Train Epoch: 1 [25600/48000 (53%)]\tLoss: 0.396778\n",
            "Train Epoch: 1 [32000/48000 (67%)]\tLoss: 0.633158\n",
            "Train Epoch: 1 [38400/48000 (80%)]\tLoss: 0.240549\n",
            "Train Epoch: 1 [44800/48000 (93%)]\tLoss: 0.179459\n",
            "Validation set: Average loss: 0.3505, Accuracy: 90.03%\n",
            "Train Epoch: 2 [0/48000 (0%)]\tLoss: 0.523723\n",
            "Train Epoch: 2 [6400/48000 (13%)]\tLoss: 0.514022\n",
            "Train Epoch: 2 [12800/48000 (27%)]\tLoss: 0.774388\n",
            "Train Epoch: 2 [19200/48000 (40%)]\tLoss: 0.209686\n",
            "Train Epoch: 2 [25600/48000 (53%)]\tLoss: 0.239083\n",
            "Train Epoch: 2 [32000/48000 (67%)]\tLoss: 0.354585\n",
            "Train Epoch: 2 [38400/48000 (80%)]\tLoss: 0.203761\n",
            "Train Epoch: 2 [44800/48000 (93%)]\tLoss: 0.112236\n",
            "Validation set: Average loss: 0.2819, Accuracy: 91.70%\n",
            "Train Epoch: 3 [0/48000 (0%)]\tLoss: 0.208022\n",
            "Train Epoch: 3 [6400/48000 (13%)]\tLoss: 0.272691\n",
            "Train Epoch: 3 [12800/48000 (27%)]\tLoss: 0.363700\n",
            "Train Epoch: 3 [19200/48000 (40%)]\tLoss: 0.482791\n",
            "Train Epoch: 3 [25600/48000 (53%)]\tLoss: 0.159168\n",
            "Train Epoch: 3 [32000/48000 (67%)]\tLoss: 0.160379\n",
            "Train Epoch: 3 [38400/48000 (80%)]\tLoss: 0.173561\n",
            "Train Epoch: 3 [44800/48000 (93%)]\tLoss: 0.146083\n",
            "Validation set: Average loss: 0.2393, Accuracy: 92.92%\n",
            "Train Epoch: 4 [0/48000 (0%)]\tLoss: 0.086593\n",
            "Train Epoch: 4 [6400/48000 (13%)]\tLoss: 0.207126\n",
            "Train Epoch: 4 [12800/48000 (27%)]\tLoss: 0.395209\n",
            "Train Epoch: 4 [19200/48000 (40%)]\tLoss: 0.112272\n",
            "Train Epoch: 4 [25600/48000 (53%)]\tLoss: 0.166103\n",
            "Train Epoch: 4 [32000/48000 (67%)]\tLoss: 0.086323\n",
            "Train Epoch: 4 [38400/48000 (80%)]\tLoss: 0.148024\n",
            "Train Epoch: 4 [44800/48000 (93%)]\tLoss: 0.051826\n",
            "Validation set: Average loss: 0.1957, Accuracy: 94.29%\n",
            "Train Epoch: 5 [0/48000 (0%)]\tLoss: 0.185292\n",
            "Train Epoch: 5 [6400/48000 (13%)]\tLoss: 0.150093\n",
            "Train Epoch: 5 [12800/48000 (27%)]\tLoss: 0.243219\n",
            "Train Epoch: 5 [19200/48000 (40%)]\tLoss: 0.276885\n",
            "Train Epoch: 5 [25600/48000 (53%)]\tLoss: 0.064054\n",
            "Train Epoch: 5 [32000/48000 (67%)]\tLoss: 0.147663\n",
            "Train Epoch: 5 [38400/48000 (80%)]\tLoss: 0.269384\n",
            "Train Epoch: 5 [44800/48000 (93%)]\tLoss: 0.264203\n",
            "Validation set: Average loss: 0.1719, Accuracy: 95.01%\n",
            "Train Epoch: 6 [0/48000 (0%)]\tLoss: 0.061994\n",
            "Train Epoch: 6 [6400/48000 (13%)]\tLoss: 0.207688\n",
            "Train Epoch: 6 [12800/48000 (27%)]\tLoss: 0.197064\n",
            "Train Epoch: 6 [19200/48000 (40%)]\tLoss: 0.176313\n",
            "Train Epoch: 6 [25600/48000 (53%)]\tLoss: 0.082116\n",
            "Train Epoch: 6 [32000/48000 (67%)]\tLoss: 0.099065\n",
            "Train Epoch: 6 [38400/48000 (80%)]\tLoss: 0.082707\n",
            "Train Epoch: 6 [44800/48000 (93%)]\tLoss: 0.042154\n",
            "Validation set: Average loss: 0.1473, Accuracy: 95.64%\n",
            "Train Epoch: 7 [0/48000 (0%)]\tLoss: 0.161840\n",
            "Train Epoch: 7 [6400/48000 (13%)]\tLoss: 0.107549\n",
            "Train Epoch: 7 [12800/48000 (27%)]\tLoss: 0.151328\n",
            "Train Epoch: 7 [19200/48000 (40%)]\tLoss: 0.427267\n",
            "Train Epoch: 7 [25600/48000 (53%)]\tLoss: 0.102080\n",
            "Train Epoch: 7 [32000/48000 (67%)]\tLoss: 0.046201\n",
            "Train Epoch: 7 [38400/48000 (80%)]\tLoss: 0.100045\n",
            "Train Epoch: 7 [44800/48000 (93%)]\tLoss: 0.230500\n",
            "Validation set: Average loss: 0.1362, Accuracy: 96.07%\n",
            "Train Epoch: 8 [0/48000 (0%)]\tLoss: 0.057864\n",
            "Train Epoch: 8 [6400/48000 (13%)]\tLoss: 0.034453\n",
            "Train Epoch: 8 [12800/48000 (27%)]\tLoss: 0.311183\n",
            "Train Epoch: 8 [19200/48000 (40%)]\tLoss: 0.046532\n",
            "Train Epoch: 8 [25600/48000 (53%)]\tLoss: 0.142857\n",
            "Train Epoch: 8 [32000/48000 (67%)]\tLoss: 0.019350\n",
            "Train Epoch: 8 [38400/48000 (80%)]\tLoss: 0.138119\n",
            "Train Epoch: 8 [44800/48000 (93%)]\tLoss: 0.090011\n",
            "Validation set: Average loss: 0.1257, Accuracy: 96.29%\n",
            "Train Epoch: 9 [0/48000 (0%)]\tLoss: 0.027943\n",
            "Train Epoch: 9 [6400/48000 (13%)]\tLoss: 0.088218\n",
            "Train Epoch: 9 [12800/48000 (27%)]\tLoss: 0.063488\n",
            "Train Epoch: 9 [19200/48000 (40%)]\tLoss: 0.135051\n",
            "Train Epoch: 9 [25600/48000 (53%)]\tLoss: 0.030968\n",
            "Train Epoch: 9 [32000/48000 (67%)]\tLoss: 0.084763\n",
            "Train Epoch: 9 [38400/48000 (80%)]\tLoss: 0.044341\n",
            "Train Epoch: 9 [44800/48000 (93%)]\tLoss: 0.046212\n",
            "Validation set: Average loss: 0.1180, Accuracy: 96.39%\n",
            "Train Epoch: 10 [0/48000 (0%)]\tLoss: 0.302797\n",
            "Train Epoch: 10 [6400/48000 (13%)]\tLoss: 0.013336\n",
            "Train Epoch: 10 [12800/48000 (27%)]\tLoss: 0.050484\n",
            "Train Epoch: 10 [19200/48000 (40%)]\tLoss: 0.226755\n",
            "Train Epoch: 10 [25600/48000 (53%)]\tLoss: 0.080247\n",
            "Train Epoch: 10 [32000/48000 (67%)]\tLoss: 0.021066\n",
            "Train Epoch: 10 [38400/48000 (80%)]\tLoss: 0.173781\n",
            "Train Epoch: 10 [44800/48000 (93%)]\tLoss: 0.078999\n",
            "Validation set: Average loss: 0.1092, Accuracy: 96.82%\n",
            "Train Epoch: 11 [0/48000 (0%)]\tLoss: 0.158363\n",
            "Train Epoch: 11 [6400/48000 (13%)]\tLoss: 0.021716\n",
            "Train Epoch: 11 [12800/48000 (27%)]\tLoss: 0.133054\n",
            "Train Epoch: 11 [19200/48000 (40%)]\tLoss: 0.066247\n",
            "Train Epoch: 11 [25600/48000 (53%)]\tLoss: 0.096680\n",
            "Train Epoch: 11 [32000/48000 (67%)]\tLoss: 0.036748\n",
            "Train Epoch: 11 [38400/48000 (80%)]\tLoss: 0.078681\n",
            "Train Epoch: 11 [44800/48000 (93%)]\tLoss: 0.024002\n",
            "Validation set: Average loss: 0.1009, Accuracy: 97.00%\n",
            "Train Epoch: 12 [0/48000 (0%)]\tLoss: 0.159181\n",
            "Train Epoch: 12 [6400/48000 (13%)]\tLoss: 0.055865\n",
            "Train Epoch: 12 [12800/48000 (27%)]\tLoss: 0.046972\n",
            "Train Epoch: 12 [19200/48000 (40%)]\tLoss: 0.035354\n",
            "Train Epoch: 12 [25600/48000 (53%)]\tLoss: 0.172506\n",
            "Train Epoch: 12 [32000/48000 (67%)]\tLoss: 0.198799\n",
            "Train Epoch: 12 [38400/48000 (80%)]\tLoss: 0.085273\n",
            "Train Epoch: 12 [44800/48000 (93%)]\tLoss: 0.041192\n",
            "Validation set: Average loss: 0.0995, Accuracy: 97.02%\n",
            "Train Epoch: 13 [0/48000 (0%)]\tLoss: 0.003630\n",
            "Train Epoch: 13 [6400/48000 (13%)]\tLoss: 0.110899\n",
            "Train Epoch: 13 [12800/48000 (27%)]\tLoss: 0.254143\n",
            "Train Epoch: 13 [19200/48000 (40%)]\tLoss: 0.085018\n",
            "Train Epoch: 13 [25600/48000 (53%)]\tLoss: 0.198410\n",
            "Train Epoch: 13 [32000/48000 (67%)]\tLoss: 0.020338\n",
            "Train Epoch: 13 [38400/48000 (80%)]\tLoss: 0.071128\n",
            "Train Epoch: 13 [44800/48000 (93%)]\tLoss: 0.028372\n",
            "Validation set: Average loss: 0.0978, Accuracy: 97.05%\n",
            "Train Epoch: 14 [0/48000 (0%)]\tLoss: 0.016231\n",
            "Train Epoch: 14 [6400/48000 (13%)]\tLoss: 0.007962\n",
            "Train Epoch: 14 [12800/48000 (27%)]\tLoss: 0.021063\n",
            "Train Epoch: 14 [19200/48000 (40%)]\tLoss: 0.054135\n",
            "Train Epoch: 14 [25600/48000 (53%)]\tLoss: 0.378285\n",
            "Train Epoch: 14 [32000/48000 (67%)]\tLoss: 0.092435\n",
            "Train Epoch: 14 [38400/48000 (80%)]\tLoss: 0.048233\n",
            "Train Epoch: 14 [44800/48000 (93%)]\tLoss: 0.012869\n",
            "Validation set: Average loss: 0.0913, Accuracy: 97.22%\n",
            "Train Epoch: 15 [0/48000 (0%)]\tLoss: 0.031087\n",
            "Train Epoch: 15 [6400/48000 (13%)]\tLoss: 0.163300\n",
            "Train Epoch: 15 [12800/48000 (27%)]\tLoss: 0.032561\n",
            "Train Epoch: 15 [19200/48000 (40%)]\tLoss: 0.130528\n",
            "Train Epoch: 15 [25600/48000 (53%)]\tLoss: 0.025777\n",
            "Train Epoch: 15 [32000/48000 (67%)]\tLoss: 0.012887\n",
            "Train Epoch: 15 [38400/48000 (80%)]\tLoss: 0.044270\n",
            "Train Epoch: 15 [44800/48000 (93%)]\tLoss: 0.036864\n",
            "Validation set: Average loss: 0.0912, Accuracy: 97.37%\n",
            "Train Epoch: 16 [0/48000 (0%)]\tLoss: 0.004558\n",
            "Train Epoch: 16 [6400/48000 (13%)]\tLoss: 0.012372\n",
            "Train Epoch: 16 [12800/48000 (27%)]\tLoss: 0.022008\n",
            "Train Epoch: 16 [19200/48000 (40%)]\tLoss: 0.016856\n",
            "Train Epoch: 16 [25600/48000 (53%)]\tLoss: 0.025779\n",
            "Train Epoch: 16 [32000/48000 (67%)]\tLoss: 0.011505\n",
            "Train Epoch: 16 [38400/48000 (80%)]\tLoss: 0.050027\n",
            "Train Epoch: 16 [44800/48000 (93%)]\tLoss: 0.004534\n",
            "Validation set: Average loss: 0.0883, Accuracy: 97.35%\n",
            "Train Epoch: 17 [0/48000 (0%)]\tLoss: 0.036917\n",
            "Train Epoch: 17 [6400/48000 (13%)]\tLoss: 0.041301\n",
            "Train Epoch: 17 [12800/48000 (27%)]\tLoss: 0.013030\n",
            "Train Epoch: 17 [19200/48000 (40%)]\tLoss: 0.029389\n",
            "Train Epoch: 17 [25600/48000 (53%)]\tLoss: 0.022513\n",
            "Train Epoch: 17 [32000/48000 (67%)]\tLoss: 0.067175\n",
            "Train Epoch: 17 [38400/48000 (80%)]\tLoss: 0.024448\n",
            "Train Epoch: 17 [44800/48000 (93%)]\tLoss: 0.242680\n",
            "Validation set: Average loss: 0.0817, Accuracy: 97.49%\n",
            "Train Epoch: 18 [0/48000 (0%)]\tLoss: 0.033090\n",
            "Train Epoch: 18 [6400/48000 (13%)]\tLoss: 0.060714\n",
            "Train Epoch: 18 [12800/48000 (27%)]\tLoss: 0.056828\n",
            "Train Epoch: 18 [19200/48000 (40%)]\tLoss: 0.014561\n",
            "Train Epoch: 18 [25600/48000 (53%)]\tLoss: 0.083058\n",
            "Train Epoch: 18 [32000/48000 (67%)]\tLoss: 0.009595\n",
            "Train Epoch: 18 [38400/48000 (80%)]\tLoss: 0.137498\n",
            "Train Epoch: 18 [44800/48000 (93%)]\tLoss: 0.030095\n",
            "Validation set: Average loss: 0.0849, Accuracy: 97.50%\n",
            "Train Epoch: 19 [0/48000 (0%)]\tLoss: 0.014021\n",
            "Train Epoch: 19 [6400/48000 (13%)]\tLoss: 0.023955\n",
            "Train Epoch: 19 [12800/48000 (27%)]\tLoss: 0.021424\n",
            "Train Epoch: 19 [19200/48000 (40%)]\tLoss: 0.007803\n",
            "Train Epoch: 19 [25600/48000 (53%)]\tLoss: 0.049423\n",
            "Train Epoch: 19 [32000/48000 (67%)]\tLoss: 0.017577\n",
            "Train Epoch: 19 [38400/48000 (80%)]\tLoss: 0.028032\n",
            "Train Epoch: 19 [44800/48000 (93%)]\tLoss: 0.040124\n",
            "Validation set: Average loss: 0.0800, Accuracy: 97.62%\n",
            "Train Epoch: 20 [0/48000 (0%)]\tLoss: 0.015859\n",
            "Train Epoch: 20 [6400/48000 (13%)]\tLoss: 0.106223\n",
            "Train Epoch: 20 [12800/48000 (27%)]\tLoss: 0.021794\n",
            "Train Epoch: 20 [19200/48000 (40%)]\tLoss: 0.007322\n",
            "Train Epoch: 20 [25600/48000 (53%)]\tLoss: 0.004959\n",
            "Train Epoch: 20 [32000/48000 (67%)]\tLoss: 0.025609\n",
            "Train Epoch: 20 [38400/48000 (80%)]\tLoss: 0.058147\n",
            "Train Epoch: 20 [44800/48000 (93%)]\tLoss: 0.029253\n",
            "Validation set: Average loss: 0.0756, Accuracy: 97.73%\n",
            "Train Epoch: 21 [0/48000 (0%)]\tLoss: 0.009903\n",
            "Train Epoch: 21 [6400/48000 (13%)]\tLoss: 0.046520\n",
            "Train Epoch: 21 [12800/48000 (27%)]\tLoss: 0.015879\n",
            "Train Epoch: 21 [19200/48000 (40%)]\tLoss: 0.045229\n",
            "Train Epoch: 21 [25600/48000 (53%)]\tLoss: 0.012745\n",
            "Train Epoch: 21 [32000/48000 (67%)]\tLoss: 0.045362\n",
            "Train Epoch: 21 [38400/48000 (80%)]\tLoss: 0.016811\n",
            "Train Epoch: 21 [44800/48000 (93%)]\tLoss: 0.006369\n",
            "Validation set: Average loss: 0.0773, Accuracy: 97.78%\n",
            "Train Epoch: 22 [0/48000 (0%)]\tLoss: 0.025246\n",
            "Train Epoch: 22 [6400/48000 (13%)]\tLoss: 0.006395\n",
            "Train Epoch: 22 [12800/48000 (27%)]\tLoss: 0.003387\n",
            "Train Epoch: 22 [19200/48000 (40%)]\tLoss: 0.011845\n",
            "Train Epoch: 22 [25600/48000 (53%)]\tLoss: 0.022746\n",
            "Train Epoch: 22 [32000/48000 (67%)]\tLoss: 0.010081\n",
            "Train Epoch: 22 [38400/48000 (80%)]\tLoss: 0.042497\n",
            "Train Epoch: 22 [44800/48000 (93%)]\tLoss: 0.031216\n",
            "Validation set: Average loss: 0.0761, Accuracy: 97.67%\n",
            "Train Epoch: 23 [0/48000 (0%)]\tLoss: 0.011176\n",
            "Train Epoch: 23 [6400/48000 (13%)]\tLoss: 0.064513\n",
            "Train Epoch: 23 [12800/48000 (27%)]\tLoss: 0.009406\n",
            "Train Epoch: 23 [19200/48000 (40%)]\tLoss: 0.075451\n",
            "Train Epoch: 23 [25600/48000 (53%)]\tLoss: 0.002768\n",
            "Train Epoch: 23 [32000/48000 (67%)]\tLoss: 0.024862\n",
            "Train Epoch: 23 [38400/48000 (80%)]\tLoss: 0.020967\n",
            "Train Epoch: 23 [44800/48000 (93%)]\tLoss: 0.059101\n",
            "Validation set: Average loss: 0.0792, Accuracy: 97.68%\n",
            "Train Epoch: 24 [0/48000 (0%)]\tLoss: 0.004506\n",
            "Train Epoch: 24 [6400/48000 (13%)]\tLoss: 0.042454\n",
            "Train Epoch: 24 [12800/48000 (27%)]\tLoss: 0.024060\n",
            "Train Epoch: 24 [19200/48000 (40%)]\tLoss: 0.060705\n",
            "Train Epoch: 24 [25600/48000 (53%)]\tLoss: 0.049799\n",
            "Train Epoch: 24 [32000/48000 (67%)]\tLoss: 0.013043\n",
            "Train Epoch: 24 [38400/48000 (80%)]\tLoss: 0.098533\n",
            "Train Epoch: 24 [44800/48000 (93%)]\tLoss: 0.020493\n",
            "Validation set: Average loss: 0.0747, Accuracy: 97.72%\n",
            "Train Epoch: 25 [0/48000 (0%)]\tLoss: 0.014646\n",
            "Train Epoch: 25 [6400/48000 (13%)]\tLoss: 0.010238\n",
            "Train Epoch: 25 [12800/48000 (27%)]\tLoss: 0.007793\n",
            "Train Epoch: 25 [19200/48000 (40%)]\tLoss: 0.004556\n",
            "Train Epoch: 25 [25600/48000 (53%)]\tLoss: 0.012480\n",
            "Train Epoch: 25 [32000/48000 (67%)]\tLoss: 0.003345\n",
            "Train Epoch: 25 [38400/48000 (80%)]\tLoss: 0.013677\n",
            "Train Epoch: 25 [44800/48000 (93%)]\tLoss: 0.005148\n",
            "Validation set: Average loss: 0.0744, Accuracy: 97.82%\n",
            "Train Epoch: 26 [0/48000 (0%)]\tLoss: 0.012011\n",
            "Train Epoch: 26 [6400/48000 (13%)]\tLoss: 0.007830\n",
            "Train Epoch: 26 [12800/48000 (27%)]\tLoss: 0.003673\n",
            "Train Epoch: 26 [19200/48000 (40%)]\tLoss: 0.002656\n",
            "Train Epoch: 26 [25600/48000 (53%)]\tLoss: 0.022120\n",
            "Train Epoch: 26 [32000/48000 (67%)]\tLoss: 0.002756\n",
            "Train Epoch: 26 [38400/48000 (80%)]\tLoss: 0.011632\n",
            "Train Epoch: 26 [44800/48000 (93%)]\tLoss: 0.001520\n",
            "Validation set: Average loss: 0.0740, Accuracy: 97.82%\n",
            "Train Epoch: 27 [0/48000 (0%)]\tLoss: 0.035636\n",
            "Train Epoch: 27 [6400/48000 (13%)]\tLoss: 0.002651\n",
            "Train Epoch: 27 [12800/48000 (27%)]\tLoss: 0.013205\n",
            "Train Epoch: 27 [19200/48000 (40%)]\tLoss: 0.001535\n",
            "Train Epoch: 27 [25600/48000 (53%)]\tLoss: 0.071036\n",
            "Train Epoch: 27 [32000/48000 (67%)]\tLoss: 0.002985\n",
            "Train Epoch: 27 [38400/48000 (80%)]\tLoss: 0.045468\n",
            "Train Epoch: 27 [44800/48000 (93%)]\tLoss: 0.021730\n",
            "Validation set: Average loss: 0.0753, Accuracy: 97.77%\n",
            "Train Epoch: 28 [0/48000 (0%)]\tLoss: 0.001706\n",
            "Train Epoch: 28 [6400/48000 (13%)]\tLoss: 0.008731\n",
            "Train Epoch: 28 [12800/48000 (27%)]\tLoss: 0.010442\n",
            "Train Epoch: 28 [19200/48000 (40%)]\tLoss: 0.005823\n",
            "Train Epoch: 28 [25600/48000 (53%)]\tLoss: 0.001599\n",
            "Train Epoch: 28 [32000/48000 (67%)]\tLoss: 0.017913\n",
            "Train Epoch: 28 [38400/48000 (80%)]\tLoss: 0.024216\n",
            "Train Epoch: 28 [44800/48000 (93%)]\tLoss: 0.004845\n",
            "Validation set: Average loss: 0.0744, Accuracy: 97.83%\n",
            "Train Epoch: 29 [0/48000 (0%)]\tLoss: 0.019036\n",
            "Train Epoch: 29 [6400/48000 (13%)]\tLoss: 0.005000\n",
            "Train Epoch: 29 [12800/48000 (27%)]\tLoss: 0.014494\n",
            "Train Epoch: 29 [19200/48000 (40%)]\tLoss: 0.020748\n",
            "Train Epoch: 29 [25600/48000 (53%)]\tLoss: 0.004887\n",
            "Train Epoch: 29 [32000/48000 (67%)]\tLoss: 0.008573\n",
            "Train Epoch: 29 [38400/48000 (80%)]\tLoss: 0.023321\n",
            "Train Epoch: 29 [44800/48000 (93%)]\tLoss: 0.040620\n",
            "Validation set: Average loss: 0.0731, Accuracy: 97.85%\n",
            "Train Epoch: 30 [0/48000 (0%)]\tLoss: 0.008834\n",
            "Train Epoch: 30 [6400/48000 (13%)]\tLoss: 0.007125\n",
            "Train Epoch: 30 [12800/48000 (27%)]\tLoss: 0.002842\n",
            "Train Epoch: 30 [19200/48000 (40%)]\tLoss: 0.006785\n",
            "Train Epoch: 30 [25600/48000 (53%)]\tLoss: 0.003092\n",
            "Train Epoch: 30 [32000/48000 (67%)]\tLoss: 0.004615\n",
            "Train Epoch: 30 [38400/48000 (80%)]\tLoss: 0.022492\n",
            "Train Epoch: 30 [44800/48000 (93%)]\tLoss: 0.006847\n",
            "Validation set: Average loss: 0.0737, Accuracy: 97.82%\n",
            "Train Epoch: 31 [0/48000 (0%)]\tLoss: 0.005052\n",
            "Train Epoch: 31 [6400/48000 (13%)]\tLoss: 0.007027\n",
            "Train Epoch: 31 [12800/48000 (27%)]\tLoss: 0.021691\n",
            "Train Epoch: 31 [19200/48000 (40%)]\tLoss: 0.012313\n",
            "Train Epoch: 31 [25600/48000 (53%)]\tLoss: 0.003686\n",
            "Train Epoch: 31 [32000/48000 (67%)]\tLoss: 0.010449\n",
            "Train Epoch: 31 [38400/48000 (80%)]\tLoss: 0.031007\n",
            "Train Epoch: 31 [44800/48000 (93%)]\tLoss: 0.017717\n",
            "Validation set: Average loss: 0.0725, Accuracy: 97.92%\n",
            "Train Epoch: 32 [0/48000 (0%)]\tLoss: 0.047666\n",
            "Train Epoch: 32 [6400/48000 (13%)]\tLoss: 0.005452\n",
            "Train Epoch: 32 [12800/48000 (27%)]\tLoss: 0.002317\n",
            "Train Epoch: 32 [19200/48000 (40%)]\tLoss: 0.004233\n",
            "Train Epoch: 32 [25600/48000 (53%)]\tLoss: 0.003700\n",
            "Train Epoch: 32 [32000/48000 (67%)]\tLoss: 0.016234\n",
            "Train Epoch: 32 [38400/48000 (80%)]\tLoss: 0.003451\n",
            "Train Epoch: 32 [44800/48000 (93%)]\tLoss: 0.025955\n",
            "Validation set: Average loss: 0.0733, Accuracy: 97.89%\n",
            "Train Epoch: 33 [0/48000 (0%)]\tLoss: 0.001966\n",
            "Train Epoch: 33 [6400/48000 (13%)]\tLoss: 0.005959\n",
            "Train Epoch: 33 [12800/48000 (27%)]\tLoss: 0.022821\n",
            "Train Epoch: 33 [19200/48000 (40%)]\tLoss: 0.005730\n",
            "Train Epoch: 33 [25600/48000 (53%)]\tLoss: 0.009622\n",
            "Train Epoch: 33 [32000/48000 (67%)]\tLoss: 0.019222\n",
            "Train Epoch: 33 [38400/48000 (80%)]\tLoss: 0.014459\n",
            "Train Epoch: 33 [44800/48000 (93%)]\tLoss: 0.013678\n",
            "Validation set: Average loss: 0.0728, Accuracy: 97.88%\n",
            "Train Epoch: 34 [0/48000 (0%)]\tLoss: 0.004278\n",
            "Train Epoch: 34 [6400/48000 (13%)]\tLoss: 0.001306\n",
            "Train Epoch: 34 [12800/48000 (27%)]\tLoss: 0.003949\n",
            "Train Epoch: 34 [19200/48000 (40%)]\tLoss: 0.002814\n",
            "Train Epoch: 34 [25600/48000 (53%)]\tLoss: 0.003541\n",
            "Train Epoch: 34 [32000/48000 (67%)]\tLoss: 0.004463\n",
            "Train Epoch: 34 [38400/48000 (80%)]\tLoss: 0.002317\n",
            "Train Epoch: 34 [44800/48000 (93%)]\tLoss: 0.001317\n",
            "Validation set: Average loss: 0.0736, Accuracy: 97.91%\n",
            "Train Epoch: 35 [0/48000 (0%)]\tLoss: 0.024602\n",
            "Train Epoch: 35 [6400/48000 (13%)]\tLoss: 0.007781\n",
            "Train Epoch: 35 [12800/48000 (27%)]\tLoss: 0.007295\n",
            "Train Epoch: 35 [19200/48000 (40%)]\tLoss: 0.003786\n",
            "Train Epoch: 35 [25600/48000 (53%)]\tLoss: 0.010514\n",
            "Train Epoch: 35 [32000/48000 (67%)]\tLoss: 0.006196\n",
            "Train Epoch: 35 [38400/48000 (80%)]\tLoss: 0.004139\n",
            "Train Epoch: 35 [44800/48000 (93%)]\tLoss: 0.005061\n",
            "Validation set: Average loss: 0.0736, Accuracy: 97.86%\n",
            "Train Epoch: 36 [0/48000 (0%)]\tLoss: 0.001729\n",
            "Train Epoch: 36 [6400/48000 (13%)]\tLoss: 0.002490\n",
            "Train Epoch: 36 [12800/48000 (27%)]\tLoss: 0.001694\n",
            "Train Epoch: 36 [19200/48000 (40%)]\tLoss: 0.007750\n",
            "Train Epoch: 36 [25600/48000 (53%)]\tLoss: 0.002193\n",
            "Train Epoch: 36 [32000/48000 (67%)]\tLoss: 0.009328\n",
            "Train Epoch: 36 [38400/48000 (80%)]\tLoss: 0.006434\n",
            "Train Epoch: 36 [44800/48000 (93%)]\tLoss: 0.006350\n",
            "Validation set: Average loss: 0.0746, Accuracy: 97.86%\n",
            "Train Epoch: 37 [0/48000 (0%)]\tLoss: 0.002679\n",
            "Train Epoch: 37 [6400/48000 (13%)]\tLoss: 0.010299\n",
            "Train Epoch: 37 [12800/48000 (27%)]\tLoss: 0.004654\n",
            "Train Epoch: 37 [19200/48000 (40%)]\tLoss: 0.000473\n",
            "Train Epoch: 37 [25600/48000 (53%)]\tLoss: 0.011575\n",
            "Train Epoch: 37 [32000/48000 (67%)]\tLoss: 0.002526\n",
            "Train Epoch: 37 [38400/48000 (80%)]\tLoss: 0.012171\n",
            "Train Epoch: 37 [44800/48000 (93%)]\tLoss: 0.001155\n",
            "Validation set: Average loss: 0.0746, Accuracy: 97.97%\n",
            "Train Epoch: 38 [0/48000 (0%)]\tLoss: 0.004985\n",
            "Train Epoch: 38 [6400/48000 (13%)]\tLoss: 0.003188\n",
            "Train Epoch: 38 [12800/48000 (27%)]\tLoss: 0.007621\n",
            "Train Epoch: 38 [19200/48000 (40%)]\tLoss: 0.002853\n",
            "Train Epoch: 38 [25600/48000 (53%)]\tLoss: 0.003465\n",
            "Train Epoch: 38 [32000/48000 (67%)]\tLoss: 0.006370\n",
            "Train Epoch: 38 [38400/48000 (80%)]\tLoss: 0.001546\n",
            "Train Epoch: 38 [44800/48000 (93%)]\tLoss: 0.001000\n",
            "Validation set: Average loss: 0.0757, Accuracy: 97.83%\n",
            "Train Epoch: 39 [0/48000 (0%)]\tLoss: 0.000980\n",
            "Train Epoch: 39 [6400/48000 (13%)]\tLoss: 0.002909\n",
            "Train Epoch: 39 [12800/48000 (27%)]\tLoss: 0.004932\n",
            "Train Epoch: 39 [19200/48000 (40%)]\tLoss: 0.011898\n",
            "Train Epoch: 39 [25600/48000 (53%)]\tLoss: 0.006964\n",
            "Train Epoch: 39 [32000/48000 (67%)]\tLoss: 0.005533\n",
            "Train Epoch: 39 [38400/48000 (80%)]\tLoss: 0.000998\n",
            "Train Epoch: 39 [44800/48000 (93%)]\tLoss: 0.001763\n",
            "Validation set: Average loss: 0.0745, Accuracy: 97.92%\n",
            "Train Epoch: 40 [0/48000 (0%)]\tLoss: 0.003648\n",
            "Train Epoch: 40 [6400/48000 (13%)]\tLoss: 0.001059\n",
            "Train Epoch: 40 [12800/48000 (27%)]\tLoss: 0.004756\n",
            "Train Epoch: 40 [19200/48000 (40%)]\tLoss: 0.003234\n",
            "Train Epoch: 40 [25600/48000 (53%)]\tLoss: 0.005429\n",
            "Train Epoch: 40 [32000/48000 (67%)]\tLoss: 0.002202\n",
            "Train Epoch: 40 [38400/48000 (80%)]\tLoss: 0.004730\n",
            "Train Epoch: 40 [44800/48000 (93%)]\tLoss: 0.004225\n",
            "Validation set: Average loss: 0.0753, Accuracy: 97.93%\n",
            "Train Epoch: 41 [0/48000 (0%)]\tLoss: 0.005987\n",
            "Train Epoch: 41 [6400/48000 (13%)]\tLoss: 0.004850\n",
            "Train Epoch: 41 [12800/48000 (27%)]\tLoss: 0.001457\n",
            "Train Epoch: 41 [19200/48000 (40%)]\tLoss: 0.003260\n",
            "Train Epoch: 41 [25600/48000 (53%)]\tLoss: 0.002915\n",
            "Train Epoch: 41 [32000/48000 (67%)]\tLoss: 0.000689\n",
            "Train Epoch: 41 [38400/48000 (80%)]\tLoss: 0.003274\n",
            "Train Epoch: 41 [44800/48000 (93%)]\tLoss: 0.003541\n",
            "Validation set: Average loss: 0.0757, Accuracy: 97.93%\n",
            "Train Epoch: 42 [0/48000 (0%)]\tLoss: 0.008255\n",
            "Train Epoch: 42 [6400/48000 (13%)]\tLoss: 0.017532\n",
            "Train Epoch: 42 [12800/48000 (27%)]\tLoss: 0.000831\n",
            "Train Epoch: 42 [19200/48000 (40%)]\tLoss: 0.001868\n",
            "Train Epoch: 42 [25600/48000 (53%)]\tLoss: 0.008272\n",
            "Train Epoch: 42 [32000/48000 (67%)]\tLoss: 0.000564\n",
            "Train Epoch: 42 [38400/48000 (80%)]\tLoss: 0.002190\n",
            "Train Epoch: 42 [44800/48000 (93%)]\tLoss: 0.001350\n",
            "Validation set: Average loss: 0.0775, Accuracy: 97.93%\n",
            "Train Epoch: 43 [0/48000 (0%)]\tLoss: 0.001705\n",
            "Train Epoch: 43 [6400/48000 (13%)]\tLoss: 0.004170\n",
            "Train Epoch: 43 [12800/48000 (27%)]\tLoss: 0.002736\n",
            "Train Epoch: 43 [19200/48000 (40%)]\tLoss: 0.001256\n",
            "Train Epoch: 43 [25600/48000 (53%)]\tLoss: 0.002583\n",
            "Train Epoch: 43 [32000/48000 (67%)]\tLoss: 0.001574\n",
            "Train Epoch: 43 [38400/48000 (80%)]\tLoss: 0.009123\n",
            "Train Epoch: 43 [44800/48000 (93%)]\tLoss: 0.004125\n",
            "Validation set: Average loss: 0.0756, Accuracy: 97.97%\n",
            "Train Epoch: 44 [0/48000 (0%)]\tLoss: 0.002629\n",
            "Train Epoch: 44 [6400/48000 (13%)]\tLoss: 0.002530\n",
            "Train Epoch: 44 [12800/48000 (27%)]\tLoss: 0.002358\n",
            "Train Epoch: 44 [19200/48000 (40%)]\tLoss: 0.005178\n",
            "Train Epoch: 44 [25600/48000 (53%)]\tLoss: 0.001097\n",
            "Train Epoch: 44 [32000/48000 (67%)]\tLoss: 0.001576\n",
            "Train Epoch: 44 [38400/48000 (80%)]\tLoss: 0.002685\n",
            "Train Epoch: 44 [44800/48000 (93%)]\tLoss: 0.008890\n",
            "Validation set: Average loss: 0.0769, Accuracy: 97.95%\n",
            "Train Epoch: 45 [0/48000 (0%)]\tLoss: 0.003537\n",
            "Train Epoch: 45 [6400/48000 (13%)]\tLoss: 0.001596\n",
            "Train Epoch: 45 [12800/48000 (27%)]\tLoss: 0.006477\n",
            "Train Epoch: 45 [19200/48000 (40%)]\tLoss: 0.001842\n",
            "Train Epoch: 45 [25600/48000 (53%)]\tLoss: 0.003755\n",
            "Train Epoch: 45 [32000/48000 (67%)]\tLoss: 0.000466\n",
            "Train Epoch: 45 [38400/48000 (80%)]\tLoss: 0.006917\n",
            "Train Epoch: 45 [44800/48000 (93%)]\tLoss: 0.015957\n",
            "Validation set: Average loss: 0.0767, Accuracy: 97.97%\n",
            "Train Epoch: 46 [0/48000 (0%)]\tLoss: 0.002600\n",
            "Train Epoch: 46 [6400/48000 (13%)]\tLoss: 0.003387\n",
            "Train Epoch: 46 [12800/48000 (27%)]\tLoss: 0.004181\n",
            "Train Epoch: 46 [19200/48000 (40%)]\tLoss: 0.009713\n",
            "Train Epoch: 46 [25600/48000 (53%)]\tLoss: 0.005094\n",
            "Train Epoch: 46 [32000/48000 (67%)]\tLoss: 0.000784\n",
            "Train Epoch: 46 [38400/48000 (80%)]\tLoss: 0.003064\n",
            "Train Epoch: 46 [44800/48000 (93%)]\tLoss: 0.000976\n",
            "Validation set: Average loss: 0.0776, Accuracy: 97.88%\n",
            "Train Epoch: 47 [0/48000 (0%)]\tLoss: 0.000929\n",
            "Train Epoch: 47 [6400/48000 (13%)]\tLoss: 0.005079\n",
            "Train Epoch: 47 [12800/48000 (27%)]\tLoss: 0.007052\n",
            "Train Epoch: 47 [19200/48000 (40%)]\tLoss: 0.000764\n",
            "Train Epoch: 47 [25600/48000 (53%)]\tLoss: 0.000941\n",
            "Train Epoch: 47 [32000/48000 (67%)]\tLoss: 0.004779\n",
            "Train Epoch: 47 [38400/48000 (80%)]\tLoss: 0.016189\n",
            "Train Epoch: 47 [44800/48000 (93%)]\tLoss: 0.004523\n",
            "Validation set: Average loss: 0.0782, Accuracy: 97.89%\n",
            "Train Epoch: 48 [0/48000 (0%)]\tLoss: 0.006991\n",
            "Train Epoch: 48 [6400/48000 (13%)]\tLoss: 0.000421\n",
            "Train Epoch: 48 [12800/48000 (27%)]\tLoss: 0.003926\n",
            "Train Epoch: 48 [19200/48000 (40%)]\tLoss: 0.003310\n",
            "Train Epoch: 48 [25600/48000 (53%)]\tLoss: 0.002775\n",
            "Train Epoch: 48 [32000/48000 (67%)]\tLoss: 0.007042\n",
            "Train Epoch: 48 [38400/48000 (80%)]\tLoss: 0.005456\n",
            "Train Epoch: 48 [44800/48000 (93%)]\tLoss: 0.001289\n",
            "Validation set: Average loss: 0.0773, Accuracy: 97.95%\n",
            "Train Epoch: 49 [0/48000 (0%)]\tLoss: 0.004303\n",
            "Train Epoch: 49 [6400/48000 (13%)]\tLoss: 0.001911\n",
            "Train Epoch: 49 [12800/48000 (27%)]\tLoss: 0.003018\n",
            "Train Epoch: 49 [19200/48000 (40%)]\tLoss: 0.001084\n",
            "Train Epoch: 49 [25600/48000 (53%)]\tLoss: 0.001433\n",
            "Train Epoch: 49 [32000/48000 (67%)]\tLoss: 0.000862\n",
            "Train Epoch: 49 [38400/48000 (80%)]\tLoss: 0.000819\n",
            "Train Epoch: 49 [44800/48000 (93%)]\tLoss: 0.001370\n",
            "Validation set: Average loss: 0.0779, Accuracy: 97.97%\n",
            "Train Epoch: 50 [0/48000 (0%)]\tLoss: 0.007207\n",
            "Train Epoch: 50 [6400/48000 (13%)]\tLoss: 0.009014\n",
            "Train Epoch: 50 [12800/48000 (27%)]\tLoss: 0.006194\n",
            "Train Epoch: 50 [19200/48000 (40%)]\tLoss: 0.001983\n",
            "Train Epoch: 50 [25600/48000 (53%)]\tLoss: 0.006511\n",
            "Train Epoch: 50 [32000/48000 (67%)]\tLoss: 0.001784\n",
            "Train Epoch: 50 [38400/48000 (80%)]\tLoss: 0.001846\n",
            "Train Epoch: 50 [44800/48000 (93%)]\tLoss: 0.000472\n",
            "Validation set: Average loss: 0.0787, Accuracy: 97.97%\n",
            "Model 2 Test set: Average loss: 0.0729, Accuracy: 97.98%\n"
          ]
        }
      ]
    }
  ]
}