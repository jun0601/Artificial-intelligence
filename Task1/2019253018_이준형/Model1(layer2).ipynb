{
  "nbformat": 4,
  "nbformat_minor": 0,
  "metadata": {
    "colab": {
      "provenance": []
    },
    "kernelspec": {
      "name": "python3",
      "display_name": "Python 3"
    },
    "language_info": {
      "name": "python"
    }
  },
  "cells": [
    {
      "cell_type": "markdown",
      "source": [
        "기본정의 & 하이퍼 파라미터 값 정의"
      ],
      "metadata": {
        "id": "IEsuJHM1hmbi"
      }
    },
    {
      "cell_type": "code",
      "source": [
        "import torch\n",
        "import torch.nn as nn\n",
        "import torch.optim as optim\n",
        "from torchvision import datasets, transforms\n",
        "\n",
        "batch_size = 32\n",
        "test_batch_size = 1000\n",
        "\n",
        "epochs = 50\n",
        "lr = 0.01           # learning rate\n",
        "momentum = 0.5      # optimizer parameter\n",
        "seed = 1\n",
        "\n",
        "log_interval = 200"
      ],
      "metadata": {
        "id": "Te3B6xVzhqu3"
      },
      "execution_count": 1,
      "outputs": []
    },
    {
      "cell_type": "markdown",
      "source": [
        "GPU 사용 여부"
      ],
      "metadata": {
        "id": "hb8indbehrZR"
      }
    },
    {
      "cell_type": "code",
      "source": [
        "no_cuda = False\n",
        "use_cuda = not no_cuda and torch.cuda.is_available()\n",
        "device = torch.device(\"cuda\" if use_cuda else \"cpu\")\n",
        "\n",
        "torch.manual_seed(seed)\n",
        "kwargs = {'num_workers': 1, 'pin_memory': True} if use_cuda else {}\n"
      ],
      "metadata": {
        "id": "GiCbfJqbhtj1"
      },
      "execution_count": 3,
      "outputs": []
    },
    {
      "cell_type": "markdown",
      "source": [
        "data 로드 & 전처리 훈련 data 학습용(80%), 검증용(20%)로 나누기"
      ],
      "metadata": {
        "id": "RBIjs_gvhut5"
      }
    },
    {
      "cell_type": "code",
      "source": [
        "def load_data(train_file_path, test_file_path):\n",
        "    transform = transforms.Compose([transforms.ToTensor()])\n",
        "\n",
        "    train_dataset = datasets.MNIST(train_file_path, train=True, download=True, transform=transform)\n",
        "    test_dataset = datasets.MNIST(test_file_path, train=False, download=True, transform=transform)\n",
        "\n",
        "    train_size = int(0.8 * len(train_dataset))\n",
        "    val_size = len(train_dataset) - train_size\n",
        "    train_dataset, val_dataset = torch.utils.data.random_split(train_dataset, [train_size, val_size])\n",
        "\n",
        "    train_loader = torch.utils.data.DataLoader(train_dataset, batch_size=32, shuffle=True)\n",
        "    val_loader = torch.utils.data.DataLoader(val_dataset, batch_size=32, shuffle=False)\n",
        "    test_loader = torch.utils.data.DataLoader(test_dataset, batch_size=32, shuffle=False)\n",
        "\n",
        "    return train_loader, val_loader, test_loader"
      ],
      "metadata": {
        "id": "Baz6GB1mhxUv"
      },
      "execution_count": 4,
      "outputs": []
    },
    {
      "cell_type": "markdown",
      "source": [
        "신경망 모델 정의"
      ],
      "metadata": {
        "id": "kblJxNT6hz1C"
      }
    },
    {
      "cell_type": "code",
      "source": [
        "class NeuralNetwork(nn.Module):\n",
        "    def __init__(self, m1, m2):\n",
        "        super(NeuralNetwork, self).__init__()\n",
        "        self.fc1 = nn.Linear(784, m1)\n",
        "        self.fc2 = nn.Linear(m1, m2)\n",
        "\n",
        "    def forward(self, x):\n",
        "        x = x.float()\n",
        "        h1 = torch.relu(self.fc1(x.view(-1, 784)))\n",
        "        h2 = self.fc2(h1)\n",
        "        return torch.log_softmax(h2, dim=1)"
      ],
      "metadata": {
        "id": "A4lBW3Pjh5er"
      },
      "execution_count": 5,
      "outputs": []
    },
    {
      "cell_type": "markdown",
      "source": [
        "train함수&validate함수&test함수"
      ],
      "metadata": {
        "id": "RM3-OJXMh8XZ"
      }
    },
    {
      "cell_type": "code",
      "source": [
        "def train(model, device, train_loader, optimizer, epoch):\n",
        "    model.train()\n",
        "    for batch_idx, (data, target) in enumerate(train_loader):\n",
        "        data, target = data.to(device), target.to(device)\n",
        "        optimizer.zero_grad()\n",
        "        output = model(data)\n",
        "        loss = nn.functional.nll_loss(output, target)\n",
        "        loss.backward()\n",
        "        optimizer.step()\n",
        "\n",
        "        if batch_idx % log_interval == 0:\n",
        "            print(f'Train Epoch: {epoch} [{batch_idx * len(data)}/{len(train_loader.dataset)} '\n",
        "                  f'({100. * batch_idx / len(train_loader):.0f}%)]\\tLoss: {loss.item():.6f}')\n",
        "\n",
        "def validate(model, device, val_loader):\n",
        "    model.eval()\n",
        "    val_loss = 0\n",
        "    correct = 0\n",
        "    with torch.no_grad():\n",
        "        for data, target in val_loader:\n",
        "            data, target = data.to(device), target.to(device)\n",
        "            output = model(data)\n",
        "            val_loss += nn.functional.nll_loss(output, target, reduction='sum').item()\n",
        "            pred = output.argmax(dim=1, keepdim=True)\n",
        "            correct += pred.eq(target.view_as(pred)).sum().item()\n",
        "\n",
        "    val_loss /= len(val_loader.dataset)\n",
        "    val_accuracy = 100. * correct / len(val_loader.dataset)\n",
        "    return val_loss, val_accuracy\n",
        "\n",
        "def test(model, device, test_loader):\n",
        "    model.eval()\n",
        "    test_loss = 0\n",
        "    correct = 0\n",
        "    with torch.no_grad():\n",
        "        for data, target in test_loader:\n",
        "            data, target = data.to(device), target.to(device)\n",
        "            output = model(data)\n",
        "            test_loss += nn.functional.nll_loss(output, target, reduction='sum').item()\n",
        "            pred = output.argmax(dim=1, keepdim=True)\n",
        "            correct += pred.eq(target.view_as(pred)).sum().item()\n",
        "\n",
        "    test_loss /= len(test_loader.dataset)\n",
        "    test_accuracy = 100. * correct / len(test_loader.dataset)\n",
        "    return test_loss, test_accuracy"
      ],
      "metadata": {
        "id": "rg4vhu2bh_ze"
      },
      "execution_count": 6,
      "outputs": []
    },
    {
      "cell_type": "markdown",
      "source": [
        "data 로드, 모델,optimizer설정"
      ],
      "metadata": {
        "id": "Tp28gas4iKE0"
      }
    },
    {
      "cell_type": "code",
      "source": [
        "train_file_path = 'mnist_train.txt'\n",
        "test_file_path = 'mnist_test.txt'\n",
        "train_loader, val_loader, test_loader = load_data(train_file_path, test_file_path)\n",
        "\n",
        "model = NeuralNetwork(m1=16, m2=10).to(device)\n",
        "optimizer = optim.SGD(model.parameters(), lr=0.01, momentum=0.5)"
      ],
      "metadata": {
        "colab": {
          "base_uri": "https://localhost:8080/"
        },
        "id": "RDP447YziMEy",
        "outputId": "41cf4dfa-acf9-46a1-92d6-5bb43b8234f7"
      },
      "execution_count": 7,
      "outputs": [
        {
          "output_type": "stream",
          "name": "stdout",
          "text": [
            "Downloading http://yann.lecun.com/exdb/mnist/train-images-idx3-ubyte.gz\n",
            "Downloading http://yann.lecun.com/exdb/mnist/train-images-idx3-ubyte.gz to mnist_train.txt/MNIST/raw/train-images-idx3-ubyte.gz\n"
          ]
        },
        {
          "output_type": "stream",
          "name": "stderr",
          "text": [
            "100%|██████████| 9912422/9912422 [00:00<00:00, 119411415.17it/s]"
          ]
        },
        {
          "output_type": "stream",
          "name": "stdout",
          "text": [
            "Extracting mnist_train.txt/MNIST/raw/train-images-idx3-ubyte.gz to mnist_train.txt/MNIST/raw\n"
          ]
        },
        {
          "output_type": "stream",
          "name": "stderr",
          "text": [
            "\n"
          ]
        },
        {
          "output_type": "stream",
          "name": "stdout",
          "text": [
            "\n",
            "Downloading http://yann.lecun.com/exdb/mnist/train-labels-idx1-ubyte.gz\n",
            "Downloading http://yann.lecun.com/exdb/mnist/train-labels-idx1-ubyte.gz to mnist_train.txt/MNIST/raw/train-labels-idx1-ubyte.gz\n"
          ]
        },
        {
          "output_type": "stream",
          "name": "stderr",
          "text": [
            "100%|██████████| 28881/28881 [00:00<00:00, 91630630.73it/s]\n"
          ]
        },
        {
          "output_type": "stream",
          "name": "stdout",
          "text": [
            "Extracting mnist_train.txt/MNIST/raw/train-labels-idx1-ubyte.gz to mnist_train.txt/MNIST/raw\n",
            "\n",
            "Downloading http://yann.lecun.com/exdb/mnist/t10k-images-idx3-ubyte.gz\n",
            "Downloading http://yann.lecun.com/exdb/mnist/t10k-images-idx3-ubyte.gz to mnist_train.txt/MNIST/raw/t10k-images-idx3-ubyte.gz\n"
          ]
        },
        {
          "output_type": "stream",
          "name": "stderr",
          "text": [
            "100%|██████████| 1648877/1648877 [00:00<00:00, 32998498.90it/s]"
          ]
        },
        {
          "output_type": "stream",
          "name": "stdout",
          "text": [
            "Extracting mnist_train.txt/MNIST/raw/t10k-images-idx3-ubyte.gz to mnist_train.txt/MNIST/raw\n",
            "\n",
            "Downloading http://yann.lecun.com/exdb/mnist/t10k-labels-idx1-ubyte.gz\n"
          ]
        },
        {
          "output_type": "stream",
          "name": "stderr",
          "text": [
            "\n"
          ]
        },
        {
          "output_type": "stream",
          "name": "stdout",
          "text": [
            "Downloading http://yann.lecun.com/exdb/mnist/t10k-labels-idx1-ubyte.gz to mnist_train.txt/MNIST/raw/t10k-labels-idx1-ubyte.gz\n"
          ]
        },
        {
          "output_type": "stream",
          "name": "stderr",
          "text": [
            "100%|██████████| 4542/4542 [00:00<00:00, 14142931.53it/s]\n"
          ]
        },
        {
          "output_type": "stream",
          "name": "stdout",
          "text": [
            "Extracting mnist_train.txt/MNIST/raw/t10k-labels-idx1-ubyte.gz to mnist_train.txt/MNIST/raw\n",
            "\n",
            "Downloading http://yann.lecun.com/exdb/mnist/train-images-idx3-ubyte.gz\n",
            "Downloading http://yann.lecun.com/exdb/mnist/train-images-idx3-ubyte.gz to mnist_test.txt/MNIST/raw/train-images-idx3-ubyte.gz\n"
          ]
        },
        {
          "output_type": "stream",
          "name": "stderr",
          "text": [
            "100%|██████████| 9912422/9912422 [00:00<00:00, 147469774.96it/s]"
          ]
        },
        {
          "output_type": "stream",
          "name": "stdout",
          "text": [
            "Extracting mnist_test.txt/MNIST/raw/train-images-idx3-ubyte.gz to mnist_test.txt/MNIST/raw\n"
          ]
        },
        {
          "output_type": "stream",
          "name": "stderr",
          "text": [
            "\n"
          ]
        },
        {
          "output_type": "stream",
          "name": "stdout",
          "text": [
            "\n",
            "Downloading http://yann.lecun.com/exdb/mnist/train-labels-idx1-ubyte.gz\n",
            "Downloading http://yann.lecun.com/exdb/mnist/train-labels-idx1-ubyte.gz to mnist_test.txt/MNIST/raw/train-labels-idx1-ubyte.gz\n"
          ]
        },
        {
          "output_type": "stream",
          "name": "stderr",
          "text": [
            "100%|██████████| 28881/28881 [00:00<00:00, 137186516.22it/s]\n"
          ]
        },
        {
          "output_type": "stream",
          "name": "stdout",
          "text": [
            "Extracting mnist_test.txt/MNIST/raw/train-labels-idx1-ubyte.gz to mnist_test.txt/MNIST/raw\n",
            "\n",
            "Downloading http://yann.lecun.com/exdb/mnist/t10k-images-idx3-ubyte.gz\n",
            "Downloading http://yann.lecun.com/exdb/mnist/t10k-images-idx3-ubyte.gz to mnist_test.txt/MNIST/raw/t10k-images-idx3-ubyte.gz\n"
          ]
        },
        {
          "output_type": "stream",
          "name": "stderr",
          "text": [
            "100%|██████████| 1648877/1648877 [00:00<00:00, 126336111.15it/s]"
          ]
        },
        {
          "output_type": "stream",
          "name": "stdout",
          "text": [
            "Extracting mnist_test.txt/MNIST/raw/t10k-images-idx3-ubyte.gz to mnist_test.txt/MNIST/raw\n"
          ]
        },
        {
          "output_type": "stream",
          "name": "stderr",
          "text": [
            "\n"
          ]
        },
        {
          "output_type": "stream",
          "name": "stdout",
          "text": [
            "\n",
            "Downloading http://yann.lecun.com/exdb/mnist/t10k-labels-idx1-ubyte.gz\n",
            "Downloading http://yann.lecun.com/exdb/mnist/t10k-labels-idx1-ubyte.gz to mnist_test.txt/MNIST/raw/t10k-labels-idx1-ubyte.gz\n"
          ]
        },
        {
          "output_type": "stream",
          "name": "stderr",
          "text": [
            "100%|██████████| 4542/4542 [00:00<00:00, 25232488.43it/s]"
          ]
        },
        {
          "output_type": "stream",
          "name": "stdout",
          "text": [
            "Extracting mnist_test.txt/MNIST/raw/t10k-labels-idx1-ubyte.gz to mnist_test.txt/MNIST/raw\n",
            "\n"
          ]
        },
        {
          "output_type": "stream",
          "name": "stderr",
          "text": [
            "\n"
          ]
        }
      ]
    },
    {
      "cell_type": "markdown",
      "source": [
        "훈련&성능 도출&test"
      ],
      "metadata": {
        "id": "LYdJZEV7iRzb"
      }
    },
    {
      "cell_type": "code",
      "source": [
        "for epoch in range(1, epochs + 1):\n",
        "    train(model, device, train_loader, optimizer, epoch)\n",
        "    val_loss, val_accuracy = validate(model, device, val_loader)\n",
        "    print(f'Validation set: Average loss: {val_loss:.4f}, Accuracy: {val_accuracy:.2f}%')\n",
        "\n",
        "test_loss, test_accuracy = test(model, device, test_loader)\n",
        "print(f'Model Test set: Average loss: {test_loss:.4f}, Accuracy: {test_accuracy:.2f}%')\n"
      ],
      "metadata": {
        "colab": {
          "base_uri": "https://localhost:8080/"
        },
        "id": "vWiOtLeLiUO1",
        "outputId": "7d4c314b-64e9-4133-a04d-135f783e5d4d"
      },
      "execution_count": 8,
      "outputs": [
        {
          "output_type": "stream",
          "name": "stdout",
          "text": [
            "Train Epoch: 1 [0/48000 (0%)]\tLoss: 2.357882\n",
            "Train Epoch: 1 [6400/48000 (13%)]\tLoss: 1.632091\n",
            "Train Epoch: 1 [12800/48000 (27%)]\tLoss: 0.850351\n",
            "Train Epoch: 1 [19200/48000 (40%)]\tLoss: 0.478048\n",
            "Train Epoch: 1 [25600/48000 (53%)]\tLoss: 0.428373\n",
            "Train Epoch: 1 [32000/48000 (67%)]\tLoss: 0.588070\n",
            "Train Epoch: 1 [38400/48000 (80%)]\tLoss: 0.225614\n",
            "Train Epoch: 1 [44800/48000 (93%)]\tLoss: 0.568945\n",
            "Validation set: Average loss: 0.3940, Accuracy: 89.06%\n",
            "Train Epoch: 2 [0/48000 (0%)]\tLoss: 0.328588\n",
            "Train Epoch: 2 [6400/48000 (13%)]\tLoss: 0.337157\n",
            "Train Epoch: 2 [12800/48000 (27%)]\tLoss: 0.174556\n",
            "Train Epoch: 2 [19200/48000 (40%)]\tLoss: 0.432689\n",
            "Train Epoch: 2 [25600/48000 (53%)]\tLoss: 0.401839\n",
            "Train Epoch: 2 [32000/48000 (67%)]\tLoss: 0.337787\n",
            "Train Epoch: 2 [38400/48000 (80%)]\tLoss: 0.549662\n",
            "Train Epoch: 2 [44800/48000 (93%)]\tLoss: 0.215304\n",
            "Validation set: Average loss: 0.3241, Accuracy: 90.81%\n",
            "Train Epoch: 3 [0/48000 (0%)]\tLoss: 0.498843\n",
            "Train Epoch: 3 [6400/48000 (13%)]\tLoss: 0.390765\n",
            "Train Epoch: 3 [12800/48000 (27%)]\tLoss: 0.385991\n",
            "Train Epoch: 3 [19200/48000 (40%)]\tLoss: 0.198041\n",
            "Train Epoch: 3 [25600/48000 (53%)]\tLoss: 0.318928\n",
            "Train Epoch: 3 [32000/48000 (67%)]\tLoss: 0.280416\n",
            "Train Epoch: 3 [38400/48000 (80%)]\tLoss: 0.072551\n",
            "Train Epoch: 3 [44800/48000 (93%)]\tLoss: 0.691112\n",
            "Validation set: Average loss: 0.3015, Accuracy: 91.41%\n",
            "Train Epoch: 4 [0/48000 (0%)]\tLoss: 0.169302\n",
            "Train Epoch: 4 [6400/48000 (13%)]\tLoss: 0.393471\n",
            "Train Epoch: 4 [12800/48000 (27%)]\tLoss: 0.369135\n",
            "Train Epoch: 4 [19200/48000 (40%)]\tLoss: 0.334600\n",
            "Train Epoch: 4 [25600/48000 (53%)]\tLoss: 0.221852\n",
            "Train Epoch: 4 [32000/48000 (67%)]\tLoss: 0.189957\n",
            "Train Epoch: 4 [38400/48000 (80%)]\tLoss: 0.179583\n",
            "Train Epoch: 4 [44800/48000 (93%)]\tLoss: 0.438528\n",
            "Validation set: Average loss: 0.2841, Accuracy: 91.83%\n",
            "Train Epoch: 5 [0/48000 (0%)]\tLoss: 0.309813\n",
            "Train Epoch: 5 [6400/48000 (13%)]\tLoss: 0.267681\n",
            "Train Epoch: 5 [12800/48000 (27%)]\tLoss: 0.420824\n",
            "Train Epoch: 5 [19200/48000 (40%)]\tLoss: 0.111332\n",
            "Train Epoch: 5 [25600/48000 (53%)]\tLoss: 0.228374\n",
            "Train Epoch: 5 [32000/48000 (67%)]\tLoss: 0.162222\n",
            "Train Epoch: 5 [38400/48000 (80%)]\tLoss: 0.341552\n",
            "Train Epoch: 5 [44800/48000 (93%)]\tLoss: 0.103229\n",
            "Validation set: Average loss: 0.2714, Accuracy: 92.20%\n",
            "Train Epoch: 6 [0/48000 (0%)]\tLoss: 0.205528\n",
            "Train Epoch: 6 [6400/48000 (13%)]\tLoss: 0.134436\n",
            "Train Epoch: 6 [12800/48000 (27%)]\tLoss: 0.268631\n",
            "Train Epoch: 6 [19200/48000 (40%)]\tLoss: 0.173769\n",
            "Train Epoch: 6 [25600/48000 (53%)]\tLoss: 0.229103\n",
            "Train Epoch: 6 [32000/48000 (67%)]\tLoss: 0.113934\n",
            "Train Epoch: 6 [38400/48000 (80%)]\tLoss: 0.209400\n",
            "Train Epoch: 6 [44800/48000 (93%)]\tLoss: 0.514827\n",
            "Validation set: Average loss: 0.2607, Accuracy: 92.47%\n",
            "Train Epoch: 7 [0/48000 (0%)]\tLoss: 0.073873\n",
            "Train Epoch: 7 [6400/48000 (13%)]\tLoss: 0.434227\n",
            "Train Epoch: 7 [12800/48000 (27%)]\tLoss: 0.157908\n",
            "Train Epoch: 7 [19200/48000 (40%)]\tLoss: 0.105939\n",
            "Train Epoch: 7 [25600/48000 (53%)]\tLoss: 0.209449\n",
            "Train Epoch: 7 [32000/48000 (67%)]\tLoss: 0.171842\n",
            "Train Epoch: 7 [38400/48000 (80%)]\tLoss: 0.440017\n",
            "Train Epoch: 7 [44800/48000 (93%)]\tLoss: 0.246059\n",
            "Validation set: Average loss: 0.2460, Accuracy: 92.99%\n",
            "Train Epoch: 8 [0/48000 (0%)]\tLoss: 0.083973\n",
            "Train Epoch: 8 [6400/48000 (13%)]\tLoss: 0.702907\n",
            "Train Epoch: 8 [12800/48000 (27%)]\tLoss: 0.402577\n",
            "Train Epoch: 8 [19200/48000 (40%)]\tLoss: 0.160931\n",
            "Train Epoch: 8 [25600/48000 (53%)]\tLoss: 0.103254\n",
            "Train Epoch: 8 [32000/48000 (67%)]\tLoss: 0.113834\n",
            "Train Epoch: 8 [38400/48000 (80%)]\tLoss: 0.304484\n",
            "Train Epoch: 8 [44800/48000 (93%)]\tLoss: 0.234136\n",
            "Validation set: Average loss: 0.2422, Accuracy: 93.04%\n",
            "Train Epoch: 9 [0/48000 (0%)]\tLoss: 0.170213\n",
            "Train Epoch: 9 [6400/48000 (13%)]\tLoss: 0.062291\n",
            "Train Epoch: 9 [12800/48000 (27%)]\tLoss: 0.224567\n",
            "Train Epoch: 9 [19200/48000 (40%)]\tLoss: 0.117184\n",
            "Train Epoch: 9 [25600/48000 (53%)]\tLoss: 0.268762\n",
            "Train Epoch: 9 [32000/48000 (67%)]\tLoss: 0.330181\n",
            "Train Epoch: 9 [38400/48000 (80%)]\tLoss: 0.360449\n",
            "Train Epoch: 9 [44800/48000 (93%)]\tLoss: 0.217426\n",
            "Validation set: Average loss: 0.2337, Accuracy: 93.41%\n",
            "Train Epoch: 10 [0/48000 (0%)]\tLoss: 0.098670\n",
            "Train Epoch: 10 [6400/48000 (13%)]\tLoss: 0.142670\n",
            "Train Epoch: 10 [12800/48000 (27%)]\tLoss: 0.163816\n",
            "Train Epoch: 10 [19200/48000 (40%)]\tLoss: 0.130172\n",
            "Train Epoch: 10 [25600/48000 (53%)]\tLoss: 0.179864\n",
            "Train Epoch: 10 [32000/48000 (67%)]\tLoss: 0.099047\n",
            "Train Epoch: 10 [38400/48000 (80%)]\tLoss: 0.214149\n",
            "Train Epoch: 10 [44800/48000 (93%)]\tLoss: 0.057699\n",
            "Validation set: Average loss: 0.2292, Accuracy: 93.58%\n",
            "Train Epoch: 11 [0/48000 (0%)]\tLoss: 0.240631\n",
            "Train Epoch: 11 [6400/48000 (13%)]\tLoss: 0.185379\n",
            "Train Epoch: 11 [12800/48000 (27%)]\tLoss: 0.338102\n",
            "Train Epoch: 11 [19200/48000 (40%)]\tLoss: 0.604036\n",
            "Train Epoch: 11 [25600/48000 (53%)]\tLoss: 0.084848\n",
            "Train Epoch: 11 [32000/48000 (67%)]\tLoss: 0.202844\n",
            "Train Epoch: 11 [38400/48000 (80%)]\tLoss: 0.270030\n",
            "Train Epoch: 11 [44800/48000 (93%)]\tLoss: 0.236140\n",
            "Validation set: Average loss: 0.2233, Accuracy: 93.66%\n",
            "Train Epoch: 12 [0/48000 (0%)]\tLoss: 0.340179\n",
            "Train Epoch: 12 [6400/48000 (13%)]\tLoss: 0.189397\n",
            "Train Epoch: 12 [12800/48000 (27%)]\tLoss: 0.143946\n",
            "Train Epoch: 12 [19200/48000 (40%)]\tLoss: 0.236045\n",
            "Train Epoch: 12 [25600/48000 (53%)]\tLoss: 0.248427\n",
            "Train Epoch: 12 [32000/48000 (67%)]\tLoss: 0.141949\n",
            "Train Epoch: 12 [38400/48000 (80%)]\tLoss: 0.545515\n",
            "Train Epoch: 12 [44800/48000 (93%)]\tLoss: 0.038355\n",
            "Validation set: Average loss: 0.2218, Accuracy: 93.61%\n",
            "Train Epoch: 13 [0/48000 (0%)]\tLoss: 0.035458\n",
            "Train Epoch: 13 [6400/48000 (13%)]\tLoss: 0.265134\n",
            "Train Epoch: 13 [12800/48000 (27%)]\tLoss: 0.201252\n",
            "Train Epoch: 13 [19200/48000 (40%)]\tLoss: 0.229706\n",
            "Train Epoch: 13 [25600/48000 (53%)]\tLoss: 0.280144\n",
            "Train Epoch: 13 [32000/48000 (67%)]\tLoss: 0.195044\n",
            "Train Epoch: 13 [38400/48000 (80%)]\tLoss: 0.369837\n",
            "Train Epoch: 13 [44800/48000 (93%)]\tLoss: 0.318852\n",
            "Validation set: Average loss: 0.2164, Accuracy: 93.89%\n",
            "Train Epoch: 14 [0/48000 (0%)]\tLoss: 0.284586\n",
            "Train Epoch: 14 [6400/48000 (13%)]\tLoss: 0.130023\n",
            "Train Epoch: 14 [12800/48000 (27%)]\tLoss: 0.024024\n",
            "Train Epoch: 14 [19200/48000 (40%)]\tLoss: 0.156223\n",
            "Train Epoch: 14 [25600/48000 (53%)]\tLoss: 0.132545\n",
            "Train Epoch: 14 [32000/48000 (67%)]\tLoss: 0.170721\n",
            "Train Epoch: 14 [38400/48000 (80%)]\tLoss: 0.175380\n",
            "Train Epoch: 14 [44800/48000 (93%)]\tLoss: 0.232550\n",
            "Validation set: Average loss: 0.2128, Accuracy: 93.90%\n",
            "Train Epoch: 15 [0/48000 (0%)]\tLoss: 0.169778\n",
            "Train Epoch: 15 [6400/48000 (13%)]\tLoss: 0.168868\n",
            "Train Epoch: 15 [12800/48000 (27%)]\tLoss: 0.238208\n",
            "Train Epoch: 15 [19200/48000 (40%)]\tLoss: 0.155068\n",
            "Train Epoch: 15 [25600/48000 (53%)]\tLoss: 0.062091\n",
            "Train Epoch: 15 [32000/48000 (67%)]\tLoss: 0.232592\n",
            "Train Epoch: 15 [38400/48000 (80%)]\tLoss: 0.238223\n",
            "Train Epoch: 15 [44800/48000 (93%)]\tLoss: 0.216215\n",
            "Validation set: Average loss: 0.2066, Accuracy: 94.09%\n",
            "Train Epoch: 16 [0/48000 (0%)]\tLoss: 0.212606\n",
            "Train Epoch: 16 [6400/48000 (13%)]\tLoss: 0.122111\n",
            "Train Epoch: 16 [12800/48000 (27%)]\tLoss: 0.270356\n",
            "Train Epoch: 16 [19200/48000 (40%)]\tLoss: 0.088544\n",
            "Train Epoch: 16 [25600/48000 (53%)]\tLoss: 0.094852\n",
            "Train Epoch: 16 [32000/48000 (67%)]\tLoss: 0.040772\n",
            "Train Epoch: 16 [38400/48000 (80%)]\tLoss: 0.196164\n",
            "Train Epoch: 16 [44800/48000 (93%)]\tLoss: 0.106417\n",
            "Validation set: Average loss: 0.2055, Accuracy: 94.13%\n",
            "Train Epoch: 17 [0/48000 (0%)]\tLoss: 0.187749\n",
            "Train Epoch: 17 [6400/48000 (13%)]\tLoss: 0.174098\n",
            "Train Epoch: 17 [12800/48000 (27%)]\tLoss: 0.099548\n",
            "Train Epoch: 17 [19200/48000 (40%)]\tLoss: 0.327229\n",
            "Train Epoch: 17 [25600/48000 (53%)]\tLoss: 0.092284\n",
            "Train Epoch: 17 [32000/48000 (67%)]\tLoss: 0.075825\n",
            "Train Epoch: 17 [38400/48000 (80%)]\tLoss: 0.024745\n",
            "Train Epoch: 17 [44800/48000 (93%)]\tLoss: 0.107217\n",
            "Validation set: Average loss: 0.2026, Accuracy: 94.14%\n",
            "Train Epoch: 18 [0/48000 (0%)]\tLoss: 0.130193\n",
            "Train Epoch: 18 [6400/48000 (13%)]\tLoss: 0.201805\n",
            "Train Epoch: 18 [12800/48000 (27%)]\tLoss: 0.131502\n",
            "Train Epoch: 18 [19200/48000 (40%)]\tLoss: 0.042901\n",
            "Train Epoch: 18 [25600/48000 (53%)]\tLoss: 0.192881\n",
            "Train Epoch: 18 [32000/48000 (67%)]\tLoss: 0.173169\n",
            "Train Epoch: 18 [38400/48000 (80%)]\tLoss: 0.130285\n",
            "Train Epoch: 18 [44800/48000 (93%)]\tLoss: 0.062315\n",
            "Validation set: Average loss: 0.2011, Accuracy: 94.22%\n",
            "Train Epoch: 19 [0/48000 (0%)]\tLoss: 0.040744\n",
            "Train Epoch: 19 [6400/48000 (13%)]\tLoss: 0.032859\n",
            "Train Epoch: 19 [12800/48000 (27%)]\tLoss: 0.206560\n",
            "Train Epoch: 19 [19200/48000 (40%)]\tLoss: 0.105156\n",
            "Train Epoch: 19 [25600/48000 (53%)]\tLoss: 0.060036\n",
            "Train Epoch: 19 [32000/48000 (67%)]\tLoss: 0.083997\n",
            "Train Epoch: 19 [38400/48000 (80%)]\tLoss: 0.200558\n",
            "Train Epoch: 19 [44800/48000 (93%)]\tLoss: 0.378956\n",
            "Validation set: Average loss: 0.1977, Accuracy: 94.32%\n",
            "Train Epoch: 20 [0/48000 (0%)]\tLoss: 0.519396\n",
            "Train Epoch: 20 [6400/48000 (13%)]\tLoss: 0.048974\n",
            "Train Epoch: 20 [12800/48000 (27%)]\tLoss: 0.258853\n",
            "Train Epoch: 20 [19200/48000 (40%)]\tLoss: 0.119488\n",
            "Train Epoch: 20 [25600/48000 (53%)]\tLoss: 0.128894\n",
            "Train Epoch: 20 [32000/48000 (67%)]\tLoss: 0.266282\n",
            "Train Epoch: 20 [38400/48000 (80%)]\tLoss: 0.052748\n",
            "Train Epoch: 20 [44800/48000 (93%)]\tLoss: 0.198816\n",
            "Validation set: Average loss: 0.1968, Accuracy: 94.33%\n",
            "Train Epoch: 21 [0/48000 (0%)]\tLoss: 0.077737\n",
            "Train Epoch: 21 [6400/48000 (13%)]\tLoss: 0.099733\n",
            "Train Epoch: 21 [12800/48000 (27%)]\tLoss: 0.114066\n",
            "Train Epoch: 21 [19200/48000 (40%)]\tLoss: 0.040293\n",
            "Train Epoch: 21 [25600/48000 (53%)]\tLoss: 0.236568\n",
            "Train Epoch: 21 [32000/48000 (67%)]\tLoss: 0.072147\n",
            "Train Epoch: 21 [38400/48000 (80%)]\tLoss: 0.039333\n",
            "Train Epoch: 21 [44800/48000 (93%)]\tLoss: 0.410098\n",
            "Validation set: Average loss: 0.1940, Accuracy: 94.40%\n",
            "Train Epoch: 22 [0/48000 (0%)]\tLoss: 0.107301\n",
            "Train Epoch: 22 [6400/48000 (13%)]\tLoss: 0.096321\n",
            "Train Epoch: 22 [12800/48000 (27%)]\tLoss: 0.054659\n",
            "Train Epoch: 22 [19200/48000 (40%)]\tLoss: 0.074064\n",
            "Train Epoch: 22 [25600/48000 (53%)]\tLoss: 0.248742\n",
            "Train Epoch: 22 [32000/48000 (67%)]\tLoss: 0.053988\n",
            "Train Epoch: 22 [38400/48000 (80%)]\tLoss: 0.266186\n",
            "Train Epoch: 22 [44800/48000 (93%)]\tLoss: 0.258737\n",
            "Validation set: Average loss: 0.1917, Accuracy: 94.47%\n",
            "Train Epoch: 23 [0/48000 (0%)]\tLoss: 0.145910\n",
            "Train Epoch: 23 [6400/48000 (13%)]\tLoss: 0.095089\n",
            "Train Epoch: 23 [12800/48000 (27%)]\tLoss: 0.117562\n",
            "Train Epoch: 23 [19200/48000 (40%)]\tLoss: 0.252834\n",
            "Train Epoch: 23 [25600/48000 (53%)]\tLoss: 0.108922\n",
            "Train Epoch: 23 [32000/48000 (67%)]\tLoss: 0.193163\n",
            "Train Epoch: 23 [38400/48000 (80%)]\tLoss: 0.489048\n",
            "Train Epoch: 23 [44800/48000 (93%)]\tLoss: 0.031498\n",
            "Validation set: Average loss: 0.1888, Accuracy: 94.57%\n",
            "Train Epoch: 24 [0/48000 (0%)]\tLoss: 0.234822\n",
            "Train Epoch: 24 [6400/48000 (13%)]\tLoss: 0.120008\n",
            "Train Epoch: 24 [12800/48000 (27%)]\tLoss: 0.087188\n",
            "Train Epoch: 24 [19200/48000 (40%)]\tLoss: 0.052075\n",
            "Train Epoch: 24 [25600/48000 (53%)]\tLoss: 0.138894\n",
            "Train Epoch: 24 [32000/48000 (67%)]\tLoss: 0.153101\n",
            "Train Epoch: 24 [38400/48000 (80%)]\tLoss: 0.244231\n",
            "Train Epoch: 24 [44800/48000 (93%)]\tLoss: 0.036066\n",
            "Validation set: Average loss: 0.1899, Accuracy: 94.56%\n",
            "Train Epoch: 25 [0/48000 (0%)]\tLoss: 0.065003\n",
            "Train Epoch: 25 [6400/48000 (13%)]\tLoss: 0.139482\n",
            "Train Epoch: 25 [12800/48000 (27%)]\tLoss: 0.118447\n",
            "Train Epoch: 25 [19200/48000 (40%)]\tLoss: 0.027740\n",
            "Train Epoch: 25 [25600/48000 (53%)]\tLoss: 0.035383\n",
            "Train Epoch: 25 [32000/48000 (67%)]\tLoss: 0.085268\n",
            "Train Epoch: 25 [38400/48000 (80%)]\tLoss: 0.216629\n",
            "Train Epoch: 25 [44800/48000 (93%)]\tLoss: 0.098203\n",
            "Validation set: Average loss: 0.1894, Accuracy: 94.59%\n",
            "Train Epoch: 26 [0/48000 (0%)]\tLoss: 0.123556\n",
            "Train Epoch: 26 [6400/48000 (13%)]\tLoss: 0.276050\n",
            "Train Epoch: 26 [12800/48000 (27%)]\tLoss: 0.388608\n",
            "Train Epoch: 26 [19200/48000 (40%)]\tLoss: 0.203959\n",
            "Train Epoch: 26 [25600/48000 (53%)]\tLoss: 0.171330\n",
            "Train Epoch: 26 [32000/48000 (67%)]\tLoss: 0.051976\n",
            "Train Epoch: 26 [38400/48000 (80%)]\tLoss: 0.051108\n",
            "Train Epoch: 26 [44800/48000 (93%)]\tLoss: 0.149254\n",
            "Validation set: Average loss: 0.1866, Accuracy: 94.65%\n",
            "Train Epoch: 27 [0/48000 (0%)]\tLoss: 0.038630\n",
            "Train Epoch: 27 [6400/48000 (13%)]\tLoss: 0.139486\n",
            "Train Epoch: 27 [12800/48000 (27%)]\tLoss: 0.064852\n",
            "Train Epoch: 27 [19200/48000 (40%)]\tLoss: 0.013628\n",
            "Train Epoch: 27 [25600/48000 (53%)]\tLoss: 0.042928\n",
            "Train Epoch: 27 [32000/48000 (67%)]\tLoss: 0.098204\n",
            "Train Epoch: 27 [38400/48000 (80%)]\tLoss: 0.138299\n",
            "Train Epoch: 27 [44800/48000 (93%)]\tLoss: 0.030703\n",
            "Validation set: Average loss: 0.1884, Accuracy: 94.42%\n",
            "Train Epoch: 28 [0/48000 (0%)]\tLoss: 0.074666\n",
            "Train Epoch: 28 [6400/48000 (13%)]\tLoss: 0.244765\n",
            "Train Epoch: 28 [12800/48000 (27%)]\tLoss: 0.307322\n",
            "Train Epoch: 28 [19200/48000 (40%)]\tLoss: 0.146120\n",
            "Train Epoch: 28 [25600/48000 (53%)]\tLoss: 0.149528\n",
            "Train Epoch: 28 [32000/48000 (67%)]\tLoss: 0.057193\n",
            "Train Epoch: 28 [38400/48000 (80%)]\tLoss: 0.227031\n",
            "Train Epoch: 28 [44800/48000 (93%)]\tLoss: 0.431679\n",
            "Validation set: Average loss: 0.1864, Accuracy: 94.58%\n",
            "Train Epoch: 29 [0/48000 (0%)]\tLoss: 0.100657\n",
            "Train Epoch: 29 [6400/48000 (13%)]\tLoss: 0.070716\n",
            "Train Epoch: 29 [12800/48000 (27%)]\tLoss: 0.140294\n",
            "Train Epoch: 29 [19200/48000 (40%)]\tLoss: 0.195676\n",
            "Train Epoch: 29 [25600/48000 (53%)]\tLoss: 0.198561\n",
            "Train Epoch: 29 [32000/48000 (67%)]\tLoss: 0.399526\n",
            "Train Epoch: 29 [38400/48000 (80%)]\tLoss: 0.136671\n",
            "Train Epoch: 29 [44800/48000 (93%)]\tLoss: 0.060432\n",
            "Validation set: Average loss: 0.1871, Accuracy: 94.54%\n",
            "Train Epoch: 30 [0/48000 (0%)]\tLoss: 0.052441\n",
            "Train Epoch: 30 [6400/48000 (13%)]\tLoss: 0.047338\n",
            "Train Epoch: 30 [12800/48000 (27%)]\tLoss: 0.026462\n",
            "Train Epoch: 30 [19200/48000 (40%)]\tLoss: 0.043634\n",
            "Train Epoch: 30 [25600/48000 (53%)]\tLoss: 0.096808\n",
            "Train Epoch: 30 [32000/48000 (67%)]\tLoss: 0.055814\n",
            "Train Epoch: 30 [38400/48000 (80%)]\tLoss: 0.351558\n",
            "Train Epoch: 30 [44800/48000 (93%)]\tLoss: 0.046086\n",
            "Validation set: Average loss: 0.1829, Accuracy: 94.67%\n",
            "Train Epoch: 31 [0/48000 (0%)]\tLoss: 0.046473\n",
            "Train Epoch: 31 [6400/48000 (13%)]\tLoss: 0.400807\n",
            "Train Epoch: 31 [12800/48000 (27%)]\tLoss: 0.122185\n",
            "Train Epoch: 31 [19200/48000 (40%)]\tLoss: 0.115781\n",
            "Train Epoch: 31 [25600/48000 (53%)]\tLoss: 0.598242\n",
            "Train Epoch: 31 [32000/48000 (67%)]\tLoss: 0.085309\n",
            "Train Epoch: 31 [38400/48000 (80%)]\tLoss: 0.099062\n",
            "Train Epoch: 31 [44800/48000 (93%)]\tLoss: 0.172849\n",
            "Validation set: Average loss: 0.1874, Accuracy: 94.58%\n",
            "Train Epoch: 32 [0/48000 (0%)]\tLoss: 0.045027\n",
            "Train Epoch: 32 [6400/48000 (13%)]\tLoss: 0.161460\n",
            "Train Epoch: 32 [12800/48000 (27%)]\tLoss: 0.049507\n",
            "Train Epoch: 32 [19200/48000 (40%)]\tLoss: 0.419409\n",
            "Train Epoch: 32 [25600/48000 (53%)]\tLoss: 0.062016\n",
            "Train Epoch: 32 [32000/48000 (67%)]\tLoss: 0.074196\n",
            "Train Epoch: 32 [38400/48000 (80%)]\tLoss: 0.171933\n",
            "Train Epoch: 32 [44800/48000 (93%)]\tLoss: 0.096692\n",
            "Validation set: Average loss: 0.1810, Accuracy: 94.84%\n",
            "Train Epoch: 33 [0/48000 (0%)]\tLoss: 0.205899\n",
            "Train Epoch: 33 [6400/48000 (13%)]\tLoss: 0.029286\n",
            "Train Epoch: 33 [12800/48000 (27%)]\tLoss: 0.419842\n",
            "Train Epoch: 33 [19200/48000 (40%)]\tLoss: 0.376017\n",
            "Train Epoch: 33 [25600/48000 (53%)]\tLoss: 0.022015\n",
            "Train Epoch: 33 [32000/48000 (67%)]\tLoss: 0.183826\n",
            "Train Epoch: 33 [38400/48000 (80%)]\tLoss: 0.137317\n",
            "Train Epoch: 33 [44800/48000 (93%)]\tLoss: 0.076993\n",
            "Validation set: Average loss: 0.1826, Accuracy: 94.69%\n",
            "Train Epoch: 34 [0/48000 (0%)]\tLoss: 0.227796\n",
            "Train Epoch: 34 [6400/48000 (13%)]\tLoss: 0.058919\n",
            "Train Epoch: 34 [12800/48000 (27%)]\tLoss: 0.033325\n",
            "Train Epoch: 34 [19200/48000 (40%)]\tLoss: 0.054094\n",
            "Train Epoch: 34 [25600/48000 (53%)]\tLoss: 0.066714\n",
            "Train Epoch: 34 [32000/48000 (67%)]\tLoss: 0.065390\n",
            "Train Epoch: 34 [38400/48000 (80%)]\tLoss: 0.157469\n",
            "Train Epoch: 34 [44800/48000 (93%)]\tLoss: 0.233847\n",
            "Validation set: Average loss: 0.1820, Accuracy: 94.72%\n",
            "Train Epoch: 35 [0/48000 (0%)]\tLoss: 0.052767\n",
            "Train Epoch: 35 [6400/48000 (13%)]\tLoss: 0.163896\n",
            "Train Epoch: 35 [12800/48000 (27%)]\tLoss: 0.641695\n",
            "Train Epoch: 35 [19200/48000 (40%)]\tLoss: 0.070730\n",
            "Train Epoch: 35 [25600/48000 (53%)]\tLoss: 0.040258\n",
            "Train Epoch: 35 [32000/48000 (67%)]\tLoss: 0.024899\n",
            "Train Epoch: 35 [38400/48000 (80%)]\tLoss: 0.223762\n",
            "Train Epoch: 35 [44800/48000 (93%)]\tLoss: 0.180906\n",
            "Validation set: Average loss: 0.1796, Accuracy: 94.92%\n",
            "Train Epoch: 36 [0/48000 (0%)]\tLoss: 0.132869\n",
            "Train Epoch: 36 [6400/48000 (13%)]\tLoss: 0.238472\n",
            "Train Epoch: 36 [12800/48000 (27%)]\tLoss: 0.136976\n",
            "Train Epoch: 36 [19200/48000 (40%)]\tLoss: 0.337664\n",
            "Train Epoch: 36 [25600/48000 (53%)]\tLoss: 0.095445\n",
            "Train Epoch: 36 [32000/48000 (67%)]\tLoss: 0.257805\n",
            "Train Epoch: 36 [38400/48000 (80%)]\tLoss: 0.046425\n",
            "Train Epoch: 36 [44800/48000 (93%)]\tLoss: 0.068625\n",
            "Validation set: Average loss: 0.1794, Accuracy: 94.89%\n",
            "Train Epoch: 37 [0/48000 (0%)]\tLoss: 0.282267\n",
            "Train Epoch: 37 [6400/48000 (13%)]\tLoss: 0.043902\n",
            "Train Epoch: 37 [12800/48000 (27%)]\tLoss: 0.230138\n",
            "Train Epoch: 37 [19200/48000 (40%)]\tLoss: 0.168906\n",
            "Train Epoch: 37 [25600/48000 (53%)]\tLoss: 0.028398\n",
            "Train Epoch: 37 [32000/48000 (67%)]\tLoss: 0.313125\n",
            "Train Epoch: 37 [38400/48000 (80%)]\tLoss: 0.503246\n",
            "Train Epoch: 37 [44800/48000 (93%)]\tLoss: 0.093630\n",
            "Validation set: Average loss: 0.1853, Accuracy: 94.78%\n",
            "Train Epoch: 38 [0/48000 (0%)]\tLoss: 0.048076\n",
            "Train Epoch: 38 [6400/48000 (13%)]\tLoss: 0.174505\n",
            "Train Epoch: 38 [12800/48000 (27%)]\tLoss: 0.100267\n",
            "Train Epoch: 38 [19200/48000 (40%)]\tLoss: 0.042402\n",
            "Train Epoch: 38 [25600/48000 (53%)]\tLoss: 0.039328\n",
            "Train Epoch: 38 [32000/48000 (67%)]\tLoss: 0.037989\n",
            "Train Epoch: 38 [38400/48000 (80%)]\tLoss: 0.132367\n",
            "Train Epoch: 38 [44800/48000 (93%)]\tLoss: 0.093000\n",
            "Validation set: Average loss: 0.1798, Accuracy: 94.87%\n",
            "Train Epoch: 39 [0/48000 (0%)]\tLoss: 0.041818\n",
            "Train Epoch: 39 [6400/48000 (13%)]\tLoss: 0.049054\n",
            "Train Epoch: 39 [12800/48000 (27%)]\tLoss: 0.045851\n",
            "Train Epoch: 39 [19200/48000 (40%)]\tLoss: 0.417134\n",
            "Train Epoch: 39 [25600/48000 (53%)]\tLoss: 0.064750\n",
            "Train Epoch: 39 [32000/48000 (67%)]\tLoss: 0.292907\n",
            "Train Epoch: 39 [38400/48000 (80%)]\tLoss: 0.129706\n",
            "Train Epoch: 39 [44800/48000 (93%)]\tLoss: 0.081991\n",
            "Validation set: Average loss: 0.1802, Accuracy: 94.84%\n",
            "Train Epoch: 40 [0/48000 (0%)]\tLoss: 0.058725\n",
            "Train Epoch: 40 [6400/48000 (13%)]\tLoss: 0.126059\n",
            "Train Epoch: 40 [12800/48000 (27%)]\tLoss: 0.216037\n",
            "Train Epoch: 40 [19200/48000 (40%)]\tLoss: 0.093140\n",
            "Train Epoch: 40 [25600/48000 (53%)]\tLoss: 0.046893\n",
            "Train Epoch: 40 [32000/48000 (67%)]\tLoss: 0.023933\n",
            "Train Epoch: 40 [38400/48000 (80%)]\tLoss: 0.286543\n",
            "Train Epoch: 40 [44800/48000 (93%)]\tLoss: 0.109803\n",
            "Validation set: Average loss: 0.1809, Accuracy: 94.99%\n",
            "Train Epoch: 41 [0/48000 (0%)]\tLoss: 0.081144\n",
            "Train Epoch: 41 [6400/48000 (13%)]\tLoss: 0.289666\n",
            "Train Epoch: 41 [12800/48000 (27%)]\tLoss: 0.044073\n",
            "Train Epoch: 41 [19200/48000 (40%)]\tLoss: 0.099594\n",
            "Train Epoch: 41 [25600/48000 (53%)]\tLoss: 0.042777\n",
            "Train Epoch: 41 [32000/48000 (67%)]\tLoss: 0.047593\n",
            "Train Epoch: 41 [38400/48000 (80%)]\tLoss: 0.335916\n",
            "Train Epoch: 41 [44800/48000 (93%)]\tLoss: 0.371618\n",
            "Validation set: Average loss: 0.1797, Accuracy: 94.99%\n",
            "Train Epoch: 42 [0/48000 (0%)]\tLoss: 0.103498\n",
            "Train Epoch: 42 [6400/48000 (13%)]\tLoss: 0.332486\n",
            "Train Epoch: 42 [12800/48000 (27%)]\tLoss: 0.089258\n",
            "Train Epoch: 42 [19200/48000 (40%)]\tLoss: 0.113276\n",
            "Train Epoch: 42 [25600/48000 (53%)]\tLoss: 0.039620\n",
            "Train Epoch: 42 [32000/48000 (67%)]\tLoss: 0.112559\n",
            "Train Epoch: 42 [38400/48000 (80%)]\tLoss: 0.085068\n",
            "Train Epoch: 42 [44800/48000 (93%)]\tLoss: 0.080038\n",
            "Validation set: Average loss: 0.1773, Accuracy: 95.02%\n",
            "Train Epoch: 43 [0/48000 (0%)]\tLoss: 0.307350\n",
            "Train Epoch: 43 [6400/48000 (13%)]\tLoss: 0.081490\n",
            "Train Epoch: 43 [12800/48000 (27%)]\tLoss: 0.033692\n",
            "Train Epoch: 43 [19200/48000 (40%)]\tLoss: 0.013406\n",
            "Train Epoch: 43 [25600/48000 (53%)]\tLoss: 0.172703\n",
            "Train Epoch: 43 [32000/48000 (67%)]\tLoss: 0.145501\n",
            "Train Epoch: 43 [38400/48000 (80%)]\tLoss: 0.206767\n",
            "Train Epoch: 43 [44800/48000 (93%)]\tLoss: 0.064155\n",
            "Validation set: Average loss: 0.1763, Accuracy: 95.03%\n",
            "Train Epoch: 44 [0/48000 (0%)]\tLoss: 0.090060\n",
            "Train Epoch: 44 [6400/48000 (13%)]\tLoss: 0.081650\n",
            "Train Epoch: 44 [12800/48000 (27%)]\tLoss: 0.008450\n",
            "Train Epoch: 44 [19200/48000 (40%)]\tLoss: 0.101155\n",
            "Train Epoch: 44 [25600/48000 (53%)]\tLoss: 0.046827\n",
            "Train Epoch: 44 [32000/48000 (67%)]\tLoss: 0.112300\n",
            "Train Epoch: 44 [38400/48000 (80%)]\tLoss: 0.305468\n",
            "Train Epoch: 44 [44800/48000 (93%)]\tLoss: 0.239722\n",
            "Validation set: Average loss: 0.1768, Accuracy: 94.95%\n",
            "Train Epoch: 45 [0/48000 (0%)]\tLoss: 0.053398\n",
            "Train Epoch: 45 [6400/48000 (13%)]\tLoss: 0.130125\n",
            "Train Epoch: 45 [12800/48000 (27%)]\tLoss: 0.050636\n",
            "Train Epoch: 45 [19200/48000 (40%)]\tLoss: 0.019795\n",
            "Train Epoch: 45 [25600/48000 (53%)]\tLoss: 0.069991\n",
            "Train Epoch: 45 [32000/48000 (67%)]\tLoss: 0.207142\n",
            "Train Epoch: 45 [38400/48000 (80%)]\tLoss: 0.197129\n",
            "Train Epoch: 45 [44800/48000 (93%)]\tLoss: 0.039757\n",
            "Validation set: Average loss: 0.1782, Accuracy: 94.94%\n",
            "Train Epoch: 46 [0/48000 (0%)]\tLoss: 0.159933\n",
            "Train Epoch: 46 [6400/48000 (13%)]\tLoss: 0.256027\n",
            "Train Epoch: 46 [12800/48000 (27%)]\tLoss: 0.058633\n",
            "Train Epoch: 46 [19200/48000 (40%)]\tLoss: 0.077460\n",
            "Train Epoch: 46 [25600/48000 (53%)]\tLoss: 0.134965\n",
            "Train Epoch: 46 [32000/48000 (67%)]\tLoss: 0.035085\n",
            "Train Epoch: 46 [38400/48000 (80%)]\tLoss: 0.306958\n",
            "Train Epoch: 46 [44800/48000 (93%)]\tLoss: 0.199763\n",
            "Validation set: Average loss: 0.1757, Accuracy: 95.11%\n",
            "Train Epoch: 47 [0/48000 (0%)]\tLoss: 0.050329\n",
            "Train Epoch: 47 [6400/48000 (13%)]\tLoss: 0.043357\n",
            "Train Epoch: 47 [12800/48000 (27%)]\tLoss: 0.075612\n",
            "Train Epoch: 47 [19200/48000 (40%)]\tLoss: 0.186685\n",
            "Train Epoch: 47 [25600/48000 (53%)]\tLoss: 0.392248\n",
            "Train Epoch: 47 [32000/48000 (67%)]\tLoss: 0.245438\n",
            "Train Epoch: 47 [38400/48000 (80%)]\tLoss: 0.032951\n",
            "Train Epoch: 47 [44800/48000 (93%)]\tLoss: 0.167828\n",
            "Validation set: Average loss: 0.1774, Accuracy: 95.00%\n",
            "Train Epoch: 48 [0/48000 (0%)]\tLoss: 0.031770\n",
            "Train Epoch: 48 [6400/48000 (13%)]\tLoss: 0.116621\n",
            "Train Epoch: 48 [12800/48000 (27%)]\tLoss: 0.025691\n",
            "Train Epoch: 48 [19200/48000 (40%)]\tLoss: 0.086586\n",
            "Train Epoch: 48 [25600/48000 (53%)]\tLoss: 0.080443\n",
            "Train Epoch: 48 [32000/48000 (67%)]\tLoss: 0.063258\n",
            "Train Epoch: 48 [38400/48000 (80%)]\tLoss: 0.019184\n",
            "Train Epoch: 48 [44800/48000 (93%)]\tLoss: 0.061814\n",
            "Validation set: Average loss: 0.1770, Accuracy: 95.07%\n",
            "Train Epoch: 49 [0/48000 (0%)]\tLoss: 0.053162\n",
            "Train Epoch: 49 [6400/48000 (13%)]\tLoss: 0.064650\n",
            "Train Epoch: 49 [12800/48000 (27%)]\tLoss: 0.105068\n",
            "Train Epoch: 49 [19200/48000 (40%)]\tLoss: 0.066812\n",
            "Train Epoch: 49 [25600/48000 (53%)]\tLoss: 0.046011\n",
            "Train Epoch: 49 [32000/48000 (67%)]\tLoss: 0.082461\n",
            "Train Epoch: 49 [38400/48000 (80%)]\tLoss: 0.276015\n",
            "Train Epoch: 49 [44800/48000 (93%)]\tLoss: 0.067948\n",
            "Validation set: Average loss: 0.1843, Accuracy: 94.90%\n",
            "Train Epoch: 50 [0/48000 (0%)]\tLoss: 0.063145\n",
            "Train Epoch: 50 [6400/48000 (13%)]\tLoss: 0.083182\n",
            "Train Epoch: 50 [12800/48000 (27%)]\tLoss: 0.071422\n",
            "Train Epoch: 50 [19200/48000 (40%)]\tLoss: 0.096178\n",
            "Train Epoch: 50 [25600/48000 (53%)]\tLoss: 0.155309\n",
            "Train Epoch: 50 [32000/48000 (67%)]\tLoss: 0.098717\n",
            "Train Epoch: 50 [38400/48000 (80%)]\tLoss: 0.060541\n",
            "Train Epoch: 50 [44800/48000 (93%)]\tLoss: 0.228423\n",
            "Validation set: Average loss: 0.1796, Accuracy: 94.99%\n",
            "Model Test set: Average loss: 0.1690, Accuracy: 95.17%\n"
          ]
        }
      ]
    }
  ]
}